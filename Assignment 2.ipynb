{
 "cells": [
  {
   "cell_type": "raw",
   "id": "2e593a7b",
   "metadata": {},
   "source": [
    "#Q1. How do you comment code in Python? What are the different types of comments?\n",
    "\n",
    "for single line comment we use ## and for multiline comments we use\n",
    "\"\"\" tripe quotes\"\"\""
   ]
  },
  {
   "cell_type": "raw",
   "id": "477b99f9",
   "metadata": {},
   "source": [
    "Q2. What are variables in Python? How do you declare and assign values to variables?\n",
    "\n",
    "variables are the one holds assigned value & variable name should start with charaters not with number or symbol.\n",
    "\"=\" operator is used to assign the value to variables "
   ]
  },
  {
   "cell_type": "raw",
   "id": "ec343449",
   "metadata": {},
   "source": [
    "Q3. How do you convert one data type to another in Python?\n",
    "\n",
    "using typecasting we can convert from one data type to another data type.\n",
    "\n"
   ]
  },
  {
   "cell_type": "code",
   "execution_count": 6,
   "id": "ff2a3b4e",
   "metadata": {},
   "outputs": [
    {
     "data": {
      "text/plain": [
       "str"
      ]
     },
     "execution_count": 6,
     "metadata": {},
     "output_type": "execute_result"
    }
   ],
   "source": [
    "#for example \n",
    "x=5\n",
    "type(x)\n",
    "\n",
    "# int type can be made as string \n",
    "\n",
    "x=str(x)\n",
    "type(x)"
   ]
  },
  {
   "cell_type": "raw",
   "id": "601f5bf4",
   "metadata": {},
   "source": [
    "Q4. How do you write and execute a Python script from the command line?\n",
    "\n",
    "need to save python notebook with .py extension and to run from the command line ,need to write python key word before file name.py file "
   ]
  },
  {
   "cell_type": "raw",
   "id": "9c4f0a7f",
   "metadata": {},
   "source": [
    "Q5. Given a list my_list = [1, 2, 3, 4, 5], write the code to slice the list and obtain the sub-list [2, 3]."
   ]
  },
  {
   "cell_type": "code",
   "execution_count": 8,
   "id": "5e5f4545",
   "metadata": {},
   "outputs": [
    {
     "data": {
      "text/plain": [
       "[2, 3]"
      ]
     },
     "execution_count": 8,
     "metadata": {},
     "output_type": "execute_result"
    }
   ],
   "source": [
    "my_list=[1,2,3,4,5]\n",
    "my_list[1:3]"
   ]
  },
  {
   "cell_type": "raw",
   "id": "a6bbb4da",
   "metadata": {},
   "source": [
    "Q6. What is a complex number in mathematics, and how is it represented in Python?\n",
    "\n",
    "complex numbers are the one which has imaginary value along with real number. It has represented as j in python as well\n",
    "\n"
   ]
  },
  {
   "cell_type": "code",
   "execution_count": 9,
   "id": "4292480f",
   "metadata": {},
   "outputs": [
    {
     "data": {
      "text/plain": [
       "complex"
      ]
     },
     "execution_count": 9,
     "metadata": {},
     "output_type": "execute_result"
    }
   ],
   "source": [
    "#example\n",
    "\n",
    "x=6+4j\n",
    "type(x)"
   ]
  },
  {
   "cell_type": "raw",
   "id": "3243e6b4",
   "metadata": {},
   "source": [
    "Q7. What is the correct way to declare a variable named age and assign the value 25 to it?\n",
    "\n",
    "declare variable name as age and assign 25 with \"=\" sign\n",
    "\n",
    "age= 25\n"
   ]
  },
  {
   "cell_type": "code",
   "execution_count": 10,
   "id": "e8ce0dad",
   "metadata": {},
   "outputs": [
    {
     "data": {
      "text/plain": [
       "25"
      ]
     },
     "execution_count": 10,
     "metadata": {},
     "output_type": "execute_result"
    }
   ],
   "source": [
    "age=25\n",
    "age"
   ]
  },
  {
   "cell_type": "raw",
   "id": "039250df",
   "metadata": {},
   "source": [
    "Q8. Declare a variable named price and assign the value 9.99 to it. What data type does this variable\n",
    "belong to?\n",
    "\n",
    "price =9.99 . type of this varibale will be float because of decimal value"
   ]
  },
  {
   "cell_type": "code",
   "execution_count": 11,
   "id": "2ab78d12",
   "metadata": {},
   "outputs": [
    {
     "data": {
      "text/plain": [
       "float"
      ]
     },
     "execution_count": 11,
     "metadata": {},
     "output_type": "execute_result"
    }
   ],
   "source": [
    "price=9.99\n",
    "type(price)"
   ]
  },
  {
   "cell_type": "raw",
   "id": "798886cc",
   "metadata": {},
   "source": [
    "Q9. Create a variable named name and assign your full name to it as a string. How would you print the\n",
    "value of this variable?\n",
    "\n",
    "name =\"Kalaiselvi\"\n",
    "\n",
    "we can print the value of this variable by calling out the variable name\n"
   ]
  },
  {
   "cell_type": "code",
   "execution_count": 12,
   "id": "e9306f9a",
   "metadata": {},
   "outputs": [
    {
     "data": {
      "text/plain": [
       "'Kalaiselvi'"
      ]
     },
     "execution_count": 12,
     "metadata": {},
     "output_type": "execute_result"
    }
   ],
   "source": [
    "name=\"Kalaiselvi\"\n",
    "name"
   ]
  },
  {
   "cell_type": "raw",
   "id": "8998b1a8",
   "metadata": {},
   "source": [
    "Q10. Given the string \"Hello, World!\", extract the substring \"World\". \n",
    "\n",
    "can extract the word world by using the slice of the index"
   ]
  },
  {
   "cell_type": "code",
   "execution_count": 14,
   "id": "72816173",
   "metadata": {},
   "outputs": [
    {
     "data": {
      "text/plain": [
       "'World'"
      ]
     },
     "execution_count": 14,
     "metadata": {},
     "output_type": "execute_result"
    }
   ],
   "source": [
    "x=\"Hello,World\"\n",
    "x[6:]"
   ]
  },
  {
   "cell_type": "raw",
   "id": "a5bf2588",
   "metadata": {},
   "source": [
    "Q11. Create a variable named \"is_student\" and assign it a boolean value indicating whether you are\n",
    "currently a student or not."
   ]
  },
  {
   "cell_type": "code",
   "execution_count": 16,
   "id": "87fd76f7",
   "metadata": {},
   "outputs": [
    {
     "data": {
      "text/plain": [
       "bool"
      ]
     },
     "execution_count": 16,
     "metadata": {},
     "output_type": "execute_result"
    }
   ],
   "source": [
    "is_student=False\n",
    "type(is_student)"
   ]
  },
  {
   "cell_type": "code",
   "execution_count": null,
   "id": "8e53e31e",
   "metadata": {},
   "outputs": [],
   "source": []
  }
 ],
 "metadata": {
  "kernelspec": {
   "display_name": "Python 3 (ipykernel)",
   "language": "python",
   "name": "python3"
  },
  "language_info": {
   "codemirror_mode": {
    "name": "ipython",
    "version": 3
   },
   "file_extension": ".py",
   "mimetype": "text/x-python",
   "name": "python",
   "nbconvert_exporter": "python",
   "pygments_lexer": "ipython3",
   "version": "3.11.3"
  }
 },
 "nbformat": 4,
 "nbformat_minor": 5
}
