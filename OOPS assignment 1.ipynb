{
 "cells": [
  {
   "cell_type": "markdown",
   "id": "a1046e3a",
   "metadata": {},
   "source": [
    "Q1. Explain Class and Object with respect to Object-Oriented Programming. Give a suitable example."
   ]
  },
  {
   "cell_type": "code",
   "execution_count": 13,
   "id": "2a66b524",
   "metadata": {},
   "outputs": [],
   "source": [
    "# \"\"\"Class is user defined ble print of the project and it helps to structure the entire program & \n",
    "# contains multiple user defined functions. \n",
    "# Object is called instanceto the class. it helps to access the defined class attributes \"\n",
    "# For Example:\"\"\"\n",
    "\n",
    "# course is the class contains course name & batch attributes. \n",
    "#student is the object to help to access course attributes \"\"\n",
    "\n",
    "\"We can create mutiple instances of the class like student 1, student 2 etc..\"\n",
    "\n",
    "class course:\n",
    "      def __init__(self,course_name,batch):\n",
    "        self.course_name=course_name\n",
    "        self.batch = batch\n",
    "        \n",
    "student=course(\"python\",\"2.0\")"
   ]
  },
  {
   "cell_type": "code",
   "execution_count": 22,
   "id": "a0194a4d",
   "metadata": {},
   "outputs": [
    {
     "data": {
      "text/plain": [
       "'python'"
      ]
     },
     "execution_count": 22,
     "metadata": {},
     "output_type": "execute_result"
    }
   ],
   "source": [
    "student.course_name\n"
   ]
  },
  {
   "cell_type": "code",
   "execution_count": 19,
   "id": "a75e4899",
   "metadata": {},
   "outputs": [
    {
     "data": {
      "text/plain": [
       "'python'"
      ]
     },
     "execution_count": 19,
     "metadata": {},
     "output_type": "execute_result"
    }
   ],
   "source": [
    "student.batch"
   ]
  },
  {
   "cell_type": "markdown",
   "id": "b96f5970",
   "metadata": {},
   "source": [
    "Q2.Name the four pillars of OOPs."
   ]
  },
  {
   "cell_type": "code",
   "execution_count": null,
   "id": "d6cb299a",
   "metadata": {},
   "outputs": [],
   "source": [
    "\"\"\" Four pillers of OOPS are polymorphism, encapsulation,inheritance & Abstraction\"\"\""
   ]
  },
  {
   "cell_type": "markdown",
   "id": "7557778b",
   "metadata": {},
   "source": [
    "Q3.Explain why the __init__() function is used. Give a suitable example."
   ]
  },
  {
   "cell_type": "code",
   "execution_count": 28,
   "id": "1b292488",
   "metadata": {},
   "outputs": [],
   "source": [
    "\"\"\" __init__ is method is constructer in OOPS concept.\n",
    "The __init__ method lets the class initialize the object's attributes.\n",
    "It is called everytime an instance(object)created for the class.\n",
    "It is used inside the class to refer the atrributes of the class.\n",
    "For Example\"\"\"\n",
    "\n",
    "class subjects:\n",
    "    \n",
    "    def __init__(self,subject,marks):\n",
    "        self.subject=subject\n",
    "        self.marks=marks\n",
    "        \n",
    "# here __init__ method helps to subject & marks variables to attribute to subject class.\n",
    "#it takes self as first attribute and it referes the student class\n",
    "\n"
   ]
  },
  {
   "cell_type": "code",
   "execution_count": 29,
   "id": "470b9448",
   "metadata": {},
   "outputs": [],
   "source": [
    "sbj=subjects(\"Maths\",\"95\")"
   ]
  },
  {
   "cell_type": "code",
   "execution_count": 30,
   "id": "26d379d5",
   "metadata": {},
   "outputs": [
    {
     "data": {
      "text/plain": [
       "'Maths'"
      ]
     },
     "execution_count": 30,
     "metadata": {},
     "output_type": "execute_result"
    }
   ],
   "source": [
    "sbj.subject"
   ]
  },
  {
   "cell_type": "code",
   "execution_count": 31,
   "id": "129117a0",
   "metadata": {},
   "outputs": [
    {
     "data": {
      "text/plain": [
       "'95'"
      ]
     },
     "execution_count": 31,
     "metadata": {},
     "output_type": "execute_result"
    }
   ],
   "source": [
    "sbj.marks"
   ]
  },
  {
   "cell_type": "markdown",
   "id": "3acc3379",
   "metadata": {},
   "source": [
    "Q4. Why self is used in OOPs?"
   ]
  },
  {
   "cell_type": "code",
   "execution_count": null,
   "id": "68d553c9",
   "metadata": {},
   "outputs": [],
   "source": [
    "\"\"\"Self is the keyword used to give the reference to the class for all attributes.\n",
    " For example, subject & mark belong to subject class etc..\n",
    " we can access all the attributes using the word self'\""
   ]
  },
  {
   "cell_type": "markdown",
   "id": "8e756b4f",
   "metadata": {},
   "source": [
    "Q5. What is inheritance? Give an example for each type of inheritance."
   ]
  },
  {
   "cell_type": "code",
   "execution_count": 33,
   "id": "c2822de2",
   "metadata": {},
   "outputs": [],
   "source": [
    "\"\"\" Inheritance is one of the feature of class in OOPS concept. When we create parent & child class , \n",
    "child class will inherit the peoperty of parents class as well.\n",
    "one class will inherit the property of the calss when it is derived from other class  \"\"\"\n",
    "\n",
    "# Example\n",
    "\n",
    "class school:\n",
    "    \n",
    "    def __init__(self,name,place):\n",
    "        self.school_name=name\n",
    "        self.place=place\n",
    "\n",
    "\n"
   ]
  },
  {
   "cell_type": "code",
   "execution_count": 34,
   "id": "eed52c7a",
   "metadata": {},
   "outputs": [],
   "source": [
    "sc=school(\"abc\",\"Chennai\")"
   ]
  },
  {
   "cell_type": "code",
   "execution_count": 35,
   "id": "67e52594",
   "metadata": {},
   "outputs": [
    {
     "data": {
      "text/plain": [
       "'abc'"
      ]
     },
     "execution_count": 35,
     "metadata": {},
     "output_type": "execute_result"
    }
   ],
   "source": [
    "sc.school_name"
   ]
  },
  {
   "cell_type": "code",
   "execution_count": 36,
   "id": "173f2f77",
   "metadata": {},
   "outputs": [
    {
     "data": {
      "text/plain": [
       "'Chennai'"
      ]
     },
     "execution_count": 36,
     "metadata": {},
     "output_type": "execute_result"
    }
   ],
   "source": [
    "sc.place"
   ]
  },
  {
   "cell_type": "code",
   "execution_count": 37,
   "id": "e84cbfab",
   "metadata": {},
   "outputs": [
    {
     "name": "stdout",
     "output_type": "stream",
     "text": [
      "this is subject class\n"
     ]
    }
   ],
   "source": [
    "class subjects(school):\n",
    "    \n",
    "    print( \"this is subject class\")\n",
    "    \n",
    "    "
   ]
  },
  {
   "cell_type": "code",
   "execution_count": 39,
   "id": "c4cf043b",
   "metadata": {},
   "outputs": [],
   "source": [
    "sc1=subjects(\"def\",\"coimbatore\")"
   ]
  },
  {
   "cell_type": "code",
   "execution_count": null,
   "id": "aef7fd4e",
   "metadata": {},
   "outputs": [],
   "source": [
    "\"subjects class has derived from school class. \n",
    "we can access all school atrributes through subject class as well\""
   ]
  },
  {
   "cell_type": "code",
   "execution_count": 40,
   "id": "cd72c856",
   "metadata": {},
   "outputs": [
    {
     "data": {
      "text/plain": [
       "'def'"
      ]
     },
     "execution_count": 40,
     "metadata": {},
     "output_type": "execute_result"
    }
   ],
   "source": [
    "sc1.school_name"
   ]
  },
  {
   "cell_type": "code",
   "execution_count": 41,
   "id": "348737c4",
   "metadata": {},
   "outputs": [
    {
     "data": {
      "text/plain": [
       "'coimbatore'"
      ]
     },
     "execution_count": 41,
     "metadata": {},
     "output_type": "execute_result"
    }
   ],
   "source": [
    "sc1.place"
   ]
  },
  {
   "cell_type": "code",
   "execution_count": null,
   "id": "48bb92a9",
   "metadata": {},
   "outputs": [],
   "source": []
  }
 ],
 "metadata": {
  "kernelspec": {
   "display_name": "Python 3 (ipykernel)",
   "language": "python",
   "name": "python3"
  },
  "language_info": {
   "codemirror_mode": {
    "name": "ipython",
    "version": 3
   },
   "file_extension": ".py",
   "mimetype": "text/x-python",
   "name": "python",
   "nbconvert_exporter": "python",
   "pygments_lexer": "ipython3",
   "version": "3.11.3"
  }
 },
 "nbformat": 4,
 "nbformat_minor": 5
}
