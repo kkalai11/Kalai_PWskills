{
 "cells": [
  {
   "cell_type": "code",
   "execution_count": 4,
   "id": "cfb925a7",
   "metadata": {},
   "outputs": [
    {
     "name": "stdout",
     "output_type": "stream",
     "text": [
      "0     4\n",
      "1     8\n",
      "2    15\n",
      "3    16\n",
      "4    23\n",
      "5    42\n",
      "dtype: int64\n"
     ]
    }
   ],
   "source": [
    "# Q1.Create a Pandas Series that contains the following data: 4, 8, 15, 16, 23, and 42. Then, print the series.\n",
    "import pandas as pd\n",
    "# Create a Pandas Series with the specified values\n",
    "series = pd.Series([4, 8, 15, 16, 23, 42])\n",
    "\n",
    "# Print the series\n",
    "print(series)\n",
    "\n"
   ]
  },
  {
   "cell_type": "code",
   "execution_count": 6,
   "id": "1ba58e91",
   "metadata": {},
   "outputs": [
    {
     "name": "stdout",
     "output_type": "stream",
     "text": [
      "0     1\n",
      "1     2\n",
      "2     3\n",
      "3     4\n",
      "4     5\n",
      "5     6\n",
      "6     7\n",
      "7     8\n",
      "8     9\n",
      "9    10\n",
      "dtype: int64\n",
      "<class 'pandas.core.series.Series'>\n"
     ]
    }
   ],
   "source": [
    "# Q2. Create a variable of list type containing 10 elements in it, and apply pandas.Series function on the\n",
    "# variable print it.\n",
    "\n",
    "x= [1,2,3,4,5,6,7,8,9,10]\n",
    "\n",
    "y= pd.Series(x)\n",
    "print(y)\n",
    "print(type(y))"
   ]
  },
  {
   "cell_type": "code",
   "execution_count": 7,
   "id": "f9caf59e",
   "metadata": {},
   "outputs": [
    {
     "name": "stdout",
     "output_type": "stream",
     "text": [
      "      Name  Age  Gender\n",
      "0    Alice   25  Female\n",
      "1      Bob   30    Male\n",
      "2  Charlie   27  Female\n"
     ]
    }
   ],
   "source": [
    "# Create a Pandas DataFrame that contains the following data:\n",
    "# Name: Alice, Bob, Charlie; Age: 25, 30, 35; City: New York, Los Angeles, Chicago. Then, print the DataFrame.\n",
    "import pandas as pd\n",
    "# Create a dictionary with the data\n",
    "data = {\n",
    "    'Name': ['Alice', 'Bob', 'Charlie'],\n",
    "    'Age': [25, 30, 27],\n",
    "    'Gender': ['Female', 'Male', 'Female']\n",
    "}\n",
    "\n",
    "# Create a DataFrame from the dictionary\n",
    "df = pd.DataFrame(data)\n",
    "# Print the DataFrame   \n",
    "print(df)\n",
    "\n"
   ]
  },
  {
   "cell_type": "code",
   "execution_count": 8,
   "id": "bf9437a9",
   "metadata": {},
   "outputs": [
    {
     "name": "stdout",
     "output_type": "stream",
     "text": [
      "DataFrame:\n",
      "      Name  Age\n",
      "0    Alice   25\n",
      "1      Bob   30\n",
      "2  Charlie   35\n",
      "\n",
      "Series:\n",
      "0    25\n",
      "1    30\n",
      "2    35\n",
      "Name: Age, dtype: int64\n"
     ]
    }
   ],
   "source": [
    "# Q4. What is ‘DataFrame’ in pandas and how is it different from pandas.series? Explain with an example.\n",
    "# A DataFrame in pandas is a two-dimensional, size-mutable, potentially heterogeneous tabular data structure \n",
    "# with labeled axes (rows and columns).# It is similar to a spreadsheet or SQL table, or a dictionary of Series objects. \n",
    "# DataFrames are generally the most commonly used pandas object.\n",
    "# A Series is a one-dimensional labeled array capable of holding any data type (integers, strings, floating point numbers, Python objects, etc.).\n",
    "# A DataFrame can be thought of as a collection of Series that share the same index.\n",
    "# In contrast, a Series is a single column of data.\n",
    "# Example of a DataFrame\n",
    "import pandas as pd\n",
    "# Create a DataFrame with two columns: 'Name' and 'Age'\n",
    "data = {\n",
    "    'Name': ['Alice', 'Bob', 'Charlie'],\n",
    "    'Age': [25, 30, 35]\n",
    "}\n",
    "df = pd.DataFrame(data)\n",
    "# Print the DataFrame\n",
    "print(\"DataFrame:\")\n",
    "print(df)\n",
    "# Example of a Series\n",
    "# Create a Series from the 'Age' column of the DataFrame\n",
    "age_series = df['Age']\n",
    "# Print the Series\n",
    "print(\"\\nSeries:\")\n",
    "print(age_series)\n",
    "# In this example, 'df' is a DataFrame with two columns ('Name' and 'Age'), while 'age_series' is a Series containing only the 'Age' column."
   ]
  },
  {
   "cell_type": "code",
   "execution_count": 10,
   "id": "9a8393f1",
   "metadata": {},
   "outputs": [
    {
     "name": "stdout",
     "output_type": "stream",
     "text": [
      "  Category  Value\n",
      "0        A     90\n",
      "1        B     60\n"
     ]
    }
   ],
   "source": [
    "# Q5. What are some common functions you can use to manipulate data in a Pandas DataFrame? Can\n",
    "# you give an example of when you might use one of these functions?\n",
    "# Some common functions to manipulate data in a Pandas DataFrame include:\n",
    "# 1. `head()`: Returns the first n rows of the DataFrame.\n",
    "# 2. `tail()`: Returns the last n rows of the DataFrame.\n",
    "# 3. `describe()`: Generates descriptive statistics of the DataFrame.\n",
    "# 4. `info()`: Provides a summary of the DataFrame, including the data types and non-null counts.\n",
    "# 5. `drop()`: Removes specified rows or columns from the DataFrame.\n",
    "# 6. `groupby()`: Groups the DataFrame using a particular column or columns.\n",
    "# 7. `merge()`: Merges two DataFrames based on a common column or index.\n",
    "# 8. `pivot_table()`: Creates a pivot table from the DataFrame.\n",
    "# 9. `apply()`: Applies a function along the axis of the DataFrame.\n",
    "# 10. `fillna()`: Fills missing values in the DataFrame.\n",
    "# Example of using `groupby()` function\n",
    "import pandas as pd\n",
    "# Create a sample DataFrame\n",
    "data = {\n",
    "    'Category': ['A', 'B', 'A', 'B', 'A'],\n",
    "    'Value': [10, 20, 30, 40, 50]\n",
    "}\n",
    "df = pd.DataFrame(data)\n",
    "# Group the DataFrame by 'Category' and calculate the sum of 'Value'\n",
    "grouped_df = df.groupby('Category')['Value'].sum().reset_index()\n",
    "# Print the grouped DataFrame\n",
    "print(grouped_df)\n",
    "# In this example, we used the `groupby()` function to group the DataFrame by the 'Category' column and calculate the sum of the 'Value' column for each category."
   ]
  },
  {
   "cell_type": "code",
   "execution_count": null,
   "id": "81fcc03c",
   "metadata": {},
   "outputs": [],
   "source": [
    "# Q6. Which of the following is mutable in nature Series, DataFrame, Panel?\n",
    "# In pandas, both Series and DataFrame are mutable in nature. This means you can modify their contents after they have been created.\n",
    "# You can add, remove, or change the values in a Series or DataFrame.\n",
    "# However, Panel is deprecated and not commonly used in recent versions of pandas.\n",
    "# It was a three-dimensional data structure, but it is not mutable in the same way as Series and DataFrame.\n"
   ]
  },
  {
   "cell_type": "code",
   "execution_count": 13,
   "id": "c939aeb9",
   "metadata": {},
   "outputs": [
    {
     "name": "stdout",
     "output_type": "stream",
     "text": [
      "      Name  Age\n",
      "0    Alice   25\n",
      "1      Bob   30\n",
      "2  Charlie   35\n"
     ]
    }
   ],
   "source": [
    "# Q7. Create a DataFrame using multiple Series. Explain with an example.\n",
    "import pandas as pd\n",
    "# Create two Series\n",
    "name_series = pd.Series(['Alice', 'Bob', 'Charlie'])\n",
    "age_series = pd.Series([25, 30, 35])\n",
    "# Create a DataFrame using the Series\n",
    "data = {\n",
    "    'Name': name_series,\n",
    "    'Age': age_series\n",
    "}\n",
    "df = pd.DataFrame(data)\n",
    "# Print the DataFrame\n",
    "print(df)"
   ]
  }
 ],
 "metadata": {
  "kernelspec": {
   "display_name": "base",
   "language": "python",
   "name": "python3"
  },
  "language_info": {
   "codemirror_mode": {
    "name": "ipython",
    "version": 3
   },
   "file_extension": ".py",
   "mimetype": "text/x-python",
   "name": "python",
   "nbconvert_exporter": "python",
   "pygments_lexer": "ipython3",
   "version": "3.10.14"
  }
 },
 "nbformat": 4,
 "nbformat_minor": 5
}
