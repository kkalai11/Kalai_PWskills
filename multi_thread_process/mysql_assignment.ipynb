{
 "cells": [
  {
   "cell_type": "markdown",
   "metadata": {},
   "source": [
    "Q1. What is a database? Differentiate between SQL and NoSQL databases.\n",
    "\n",
    "A database is a collection of data that is stored in a computer system. \n",
    "Databases are used to store, manage, and retrieve data.# They are used in many applications, including websites, mobile apps, and enterprise systems.\n",
    "Databases can be classified into two main types: SQL and NoSQL databases.\n",
    "SQL databases are relational databases that use structured query language (SQL) to manage and query data.# They store data in tables, which are organized into rows and columns.\n",
    "SQL databases are used in many applications, including e-commerce websites, customer relationship management (CRM) systems, and financial systems.\n",
    "NoSQL databases are non-relational databases that do not use SQL to manage and query data.\n",
    "They store data in a variety of formats, including key-value pairs, documents, and graphs.\n",
    "NoSQL databases are used in many applications, including social media platforms, real-time analytics systems, and Internet of Things (IoT) applications.\n",
    "SQL databases are typically used for applications that require complex queries and transactions, while NoSQL databases are used for applications that require high scalability and flexibility.\n"
   ]
  },
  {
   "cell_type": "code",
   "execution_count": null,
   "metadata": {},
   "outputs": [],
   "source": [
    "# Q2. What is DDL? Explain why CREATE, DROP, ALTER, and TRUNCATE are used with an example.\n",
    "# DDL stands for Data Definition Language. It is used to define the structure that holds the data. DDL commands are CREATE, DROP, ALTER, TRUNCATE, COMMENT, RENAME, etc.\n",
    "# CREATE: It is used to create a new table, view, index, or database.\n",
    "# DROP: It is used to delete objects from the database.\n",
    "# ALTER: It is used to alter the structure of the database.\n",
    "# TRUNCATE: It is used to delete all the rows from the table and free the space containing the table.\n",
    "# Example:\n",
    "CREATE TABLE employee (\n",
    "   employee_id INT PRIMARY KEY,\n",
    "   employee_name VARCHAR(50),\n",
    "   employee_salary INT\n",
    ");\n",
    "ALTER TABLE employee ADD COLUMN employee_age INT;\n",
    "TRUNCATE TABLE employee;\n",
    "DROP TABLE employee;\n"
   ]
  },
  {
   "cell_type": "code",
   "execution_count": null,
   "metadata": {},
   "outputs": [],
   "source": [
    "#Q3. What is DML? Explain INSERT, UPDATE, and DELETE with an example.\n",
    "# DML stands for Data Manipulation Language. It is used to manipulate data in the database. DML commands are INSERT, UPDATE, DELETE, SELECT, etc.\n",
    "# INSERT: It is used to insert new rows into a table.\n",
    "# UPDATE: It is used to update existing rows in a table.\n",
    "# DELETE: It is used to delete rows from a table.\n",
    "# Example:\n",
    "INSERT INTO employee (employee_id, employee_name, employee_salary) VALUES (1, 'John Doe', 50000);\n",
    "UPDATE employee SET employee_salary = 60000 WHERE employee_id = 1;\n",
    "DELETE FROM employee WHERE employee_id = 1;\n",
    "\n"
   ]
  },
  {
   "cell_type": "code",
   "execution_count": null,
   "metadata": {},
   "outputs": [],
   "source": [
    "#Q4. What is DQL? Explain SELECT with an example.\n",
    "# DQL stands for Data Query Language. It is used to query data from the database. DQL commands are SELECT, etc.\n",
    "# SELECT: It is used to retrieve data from the database.\n",
    "# Example:\n",
    "SELECT * FROM employee;\n",
    "SELECT employee_name, employee_salary FROM employee WHERE employee_salary > 50000;\n",
    "\n",
    " "
   ]
  },
  {
   "cell_type": "markdown",
   "metadata": {},
   "source": [
    "#Q5. Explain Primary Key and Foreign Key.\n",
    "# Primary Key: A primary key is a column or a set of columns that uniquely identifies each row in a table. \n",
    "# It enforces the entity integrity of the table and ensures that each row is uniquely identified.\n",
    "# Foreign Key: A foreign key is a column or a set of columns in a table that refers to the primary key of another table."
   ]
  },
  {
   "cell_type": "code",
   "execution_count": null,
   "metadata": {},
   "outputs": [],
   "source": [
    "#Q6. Write a python code to connect MySQL to python. Explain the cursor() and execute() method.\n",
    "import mysql.connector\n",
    "mydb = mysql.connector.connect(\n",
    "  host=\"localhost\",\n",
    "  user = 'abc',\n",
    "  password =\"password\"\n",
    ")\n",
    "mycursor = mydb.cursor()\n",
    "mycursor.execute(\"CREATE DATABASE if not exists testdb\")"
   ]
  },
  {
   "cell_type": "markdown",
   "metadata": {},
   "source": [
    "#Q7. Give the order of execution of SQL clauses in an SQL query.\n",
    "# The order of execution of SQL clauses in an SQL query is as follows:\n",
    "# 1. FROM\n",
    "# 2. WHERE\n",
    "# 3. GROUP BY\n",
    "# 4. HAVING\n",
    "# 5. SELECT\n",
    "# 6. ORDER BY\n",
    "# 7. LIMIT\n"
   ]
  }
 ],
 "metadata": {
  "language_info": {
   "name": "python"
  }
 },
 "nbformat": 4,
 "nbformat_minor": 2
}
