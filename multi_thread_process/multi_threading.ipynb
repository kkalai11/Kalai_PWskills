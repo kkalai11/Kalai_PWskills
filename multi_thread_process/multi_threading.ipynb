{
 "cells": [
  {
   "cell_type": "code",
   "execution_count": null,
   "metadata": {},
   "outputs": [],
   "source": [
    "# threading \n",
    "--it helps to execute all the programs in one core ( 2 quad computers will have 2 core 4 quad computers will have 4 core etc..)"
   ]
  },
  {
   "cell_type": "code",
   "execution_count": 5,
   "metadata": {},
   "outputs": [
    {
     "name": "stdout",
     "output_type": "stream",
     "text": [
      "this is my id 10\n",
      "this is my id 20\n",
      "this is my id 1\n"
     ]
    }
   ],
   "source": [
    "# threading module is used to run multiple threads (tasks, function calls) at the same time\n",
    "import threading \n",
    "\n",
    "def test(id):\n",
    "    print(\"this is my id %d\" %id)\n",
    "\n",
    "test(10)   \n",
    "test(20) \n",
    "test(1)"
   ]
  },
  {
   "cell_type": "code",
   "execution_count": 10,
   "metadata": {},
   "outputs": [
    {
     "name": "stdout",
     "output_type": "stream",
     "text": [
      "this is my id 10\n",
      "this is my id 20\n",
      "this is my id 1\n"
     ]
    }
   ],
   "source": [
    "# instead of calling the function multiple times we can use threading to run the function at the same time\n",
    "\n",
    "t1 = [threading.Thread(target=test, args=(i,)) for i in [10, 20, 1]]\n",
    "t1\n",
    "\n",
    "for i in t1:\n",
    "    i.start()"
   ]
  },
  {
   "cell_type": "markdown",
   "metadata": {},
   "source": [
    "# how to import data from 3 different links at a time using threading \n"
   ]
  },
  {
   "cell_type": "code",
   "execution_count": 16,
   "metadata": {},
   "outputs": [],
   "source": [
    "import urllib.request\n",
    "\n",
    "def file_download(url,file_name):\n",
    "    urllib.request.urlretrieve(url,file_name)\n",
    "\n",
    "\n",
    "url_list = ['https://raw.githubusercontent.com/itsfoss/text-files/master/agatha.txt' , 'https://raw.githubusercontent.com/itsfoss/text-files/master/sherlock.txt' ,'https://raw.githubusercontent.com/itsfoss/text-files/master/sample_log_file.txt' ]\n",
    "data_file_list = ['data1.txt','data2.txt','data3.txt']\n",
    "\n",
    "t2 = [threading.Thread (target=file_download, args=(url_list[i],data_file_list[i])) for i in range(len(url_list))]\n",
    "\n",
    "for t in t2:\n",
    "    t.start()"
   ]
  }
 ],
 "metadata": {
  "kernelspec": {
   "display_name": "base",
   "language": "python",
   "name": "python3"
  },
  "language_info": {
   "codemirror_mode": {
    "name": "ipython",
    "version": 3
   },
   "file_extension": ".py",
   "mimetype": "text/x-python",
   "name": "python",
   "nbconvert_exporter": "python",
   "pygments_lexer": "ipython3",
   "version": "3.10.14"
  }
 },
 "nbformat": 4,
 "nbformat_minor": 2
}
