{
 "cells": [
  {
   "cell_type": "code",
   "execution_count": null,
   "metadata": {},
   "outputs": [],
   "source": [
    "# threading \n",
    "--it helps to execute all the programs in one core ( 2 quad computers will have 2 core 4 quad computers will have 4 core etc..)"
   ]
  },
  {
   "cell_type": "code",
   "execution_count": 5,
   "metadata": {},
   "outputs": [
    {
     "name": "stdout",
     "output_type": "stream",
     "text": [
      "this is my id 10\n",
      "this is my id 20\n",
      "this is my id 1\n"
     ]
    }
   ],
   "source": [
    "# threading module is used to run multiple threads (tasks, function calls) at the same time\n",
    "import threading \n",
    "\n",
    "def test(id):\n",
    "    print(\"this is my id %d\" %id)\n",
    "\n",
    "test(10)   \n",
    "test(20) \n",
    "test(1)"
   ]
  },
  {
   "cell_type": "code",
   "execution_count": 10,
   "metadata": {},
   "outputs": [
    {
     "name": "stdout",
     "output_type": "stream",
     "text": [
      "this is my id 10\n",
      "this is my id 20\n",
      "this is my id 1\n"
     ]
    }
   ],
   "source": [
    "# instead of calling the function multiple times we can use threading to run the function at the same time\n",
    "\n",
    "t1 = [threading.Thread(target=test, args=(i,)) for i in [10, 20, 1]]\n",
    "t1\n",
    "\n",
    "for i in t1:\n",
    "    i.start()"
   ]
  },
  {
   "cell_type": "markdown",
   "metadata": {},
   "source": [
    "# how to import data from 3 different links at a time using threading \n"
   ]
  },
  {
   "cell_type": "code",
   "execution_count": 16,
   "metadata": {},
   "outputs": [],
   "source": [
    "import urllib.request\n",
    "\n",
    "def file_download(url,file_name):\n",
    "    urllib.request.urlretrieve(url,file_name)\n",
    "\n",
    "\n",
    "url_list = ['https://raw.githubusercontent.com/itsfoss/text-files/master/agatha.txt' , 'https://raw.githubusercontent.com/itsfoss/text-files/master/sherlock.txt' ,'https://raw.githubusercontent.com/itsfoss/text-files/master/sample_log_file.txt' ]\n",
    "data_file_list = ['data1.txt','data2.txt','data3.txt']\n",
    "\n",
    "t2 = [threading.Thread (target=file_download, args=(url_list[i],data_file_list[i])) for i in range(len(url_list))]\n",
    "\n",
    "for t in t2:\n",
    "    t.start()"
   ]
  },
  {
   "cell_type": "code",
   "execution_count": 17,
   "metadata": {},
   "outputs": [
    {
     "data": {
      "text/plain": [
       "[<Thread(Thread-129 (file_download), stopped 23032)>,\n",
       " <Thread(Thread-130 (file_download), stopped 25900)>,\n",
       " <Thread(Thread-131 (file_download), stopped 8896)>]"
      ]
     },
     "execution_count": 17,
     "metadata": {},
     "output_type": "execute_result"
    }
   ],
   "source": [
    "t2"
   ]
  },
  {
   "cell_type": "code",
   "execution_count": null,
   "metadata": {},
   "outputs": [
    {
     "name": "stdout",
     "output_type": "stream",
     "text": [
      "this is my id 100 for 0this is my id 5 for 0\n",
      "this is my id 5 for 1\n",
      "this is my id 5 for 2\n",
      "this is my id 5 for 3\n",
      "this is my id 5 for 4\n",
      "this is my id 5 for 5\n",
      "this is my id 5 for 6\n",
      "this is my id 5 for 7\n",
      "this is my id 5 for 8\n",
      "this is my id 5 for 9\n",
      "\n",
      "this is my id 100 for 1\n",
      "this is my id 100 for 2\n",
      "this is my id 100 for 3\n",
      "this is my id 100 for 4\n",
      "this is my id 100 for 5\n",
      "this is my id 100 for 6\n",
      "this is my id 100 for 7\n",
      "this is my id 100 for 8\n",
      "this is my id 100 for 9\n"
     ]
    }
   ],
   "source": [
    "import time \n",
    "\n",
    "def test2(x):\n",
    "    for i in range(10):\n",
    "        print(\"this is my id %d for %d\" %(x,i))\n",
    "        time.sleep(1)\n",
    "# if there is no sleep then output will be printed for all i then move into next x\n",
    "\n",
    "t3=[threading.Thread(target=test2,args=(i,)) for i in [100,5]]\n",
    "\n",
    "t3 \n",
    "\n",
    "for t in t3:\n",
    "    t.start()"
   ]
  }
 ],
 "metadata": {
  "kernelspec": {
   "display_name": "base",
   "language": "python",
   "name": "python3"
  },
  "language_info": {
   "codemirror_mode": {
    "name": "ipython",
    "version": 3
   },
   "file_extension": ".py",
   "mimetype": "text/x-python",
   "name": "python",
   "nbconvert_exporter": "python",
   "pygments_lexer": "ipython3",
   "version": "3.10.14"
  }
 },
 "nbformat": 4,
 "nbformat_minor": 2
}
