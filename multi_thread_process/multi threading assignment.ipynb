{
 "cells": [
  {
   "cell_type": "markdown",
   "metadata": {},
   "source": [
    "# Multi threading assignment \n",
    "Q1. What is multithreading in python? Why is it used? Name the module used to handle threads in python.\n",
    "\n",
    "multi threading is a the process where all the threads excutes concurrently within single process. this allows threads to communicate & share data more easily than single processes. \n",
    "\n",
    "it is used to improve performance where I/O tasks by allowing multiple operation happens simultaniously. it will maximize the utilization of CPU, Memory. it simplifies the design where bigger tasks can be broken into smaller tasks. \n",
    "\n",
    "threading module in standard library module used to handle threads in python\n"
   ]
  },
  {
   "cell_type": "markdown",
   "metadata": {},
   "source": [
    "#Q2. Why threading module used? Write the use of the following functions\n",
    "activeCount()\n",
    " currentThread()\n",
    " enumerate()\n",
    "\n",
    "\n",
    " The threading module in python is used to creat, manage & control threads.\n",
    "  threading module provides many functions that help with the tasks\n",
    "  threading.active count() --- Returns number of threads that are currently active \n",
    "  threading.currentThread() -- Returns the thread that is currently executing \n",
    "  threading.enumerate()- provides the list of all the threads that are currently active "
   ]
  },
  {
   "cell_type": "markdown",
   "metadata": {},
   "source": [
    "Q3. Explain the following functions\n",
    "run()\n",
    "start()\n",
    "join()\n",
    "isAlive()\n",
    "\n",
    "these functions are releated to multithreading tasks . \n",
    "run () -  entry point for the thread\n",
    "start() - starts the thread by calling run() method\n",
    "join()- waits for the threads to terminate\n",
    "isAlive ()- checks whether thread is still executing \n"
   ]
  },
  {
   "cell_type": "code",
   "execution_count": 8,
   "metadata": {},
   "outputs": [
    {
     "name": "stdout",
     "output_type": "stream",
     "text": [
      "square: 1\n",
      "square: 4\n",
      "square: 9\n",
      "square: 16\n",
      "square: 36\n",
      "cube: 1\n",
      "cube: 8\n",
      "cube: 27\n",
      "cube: 64\n",
      "cube: 216\n"
     ]
    }
   ],
   "source": [
    "import threading \n",
    "\n",
    "def square_numbers(i):\n",
    "    print(\"square:\",i*i)\n",
    "\n",
    "def cube_numbers(i):\n",
    "     print(\"cube:\",i*i*i)\n",
    "\n",
    "thread1 = [threading.Thread(target=square_numbers,args=(i,)) for i in [1,2,3,4,6]]\n",
    "thread2= [threading.Thread(target=cube_numbers,args=(i,)) for i in [1,2,3,4,6]]\n",
    "\n",
    "for i in thread1:\n",
    "    i.start()\n",
    "for i in thread2:\n",
    "    i.start()\n"
   ]
  },
  {
   "cell_type": "markdown",
   "metadata": {},
   "source": [
    "Q5. State advantages and disadvantages of multithreading.\n",
    "### Advantages of Multithreading:\n",
    "- Improved Performance\n",
    "- Better Resource Utilization\n",
    "- Responsiveness\n",
    "- Simplified Task Decomposition\n",
    "- Better Handling of I/O\n",
    "\n",
    "### Disadvantages of Multithreading:\n",
    "- Complexity\n",
    "- Overhead\n",
    "- Difficult Debugging\n",
    "- Increased Resource Consumption\n",
    "- Concurrency Control Issues"
   ]
  },
  {
   "cell_type": "markdown",
   "metadata": {},
   "source": [
    "Q6. Explain deadlocks and race conditions.\n",
    "### Deadlocks:\n",
    "\n",
    "A **deadlock** occurs in a multithreaded or multiprocess system when two or more threads are unable to proceed with their execution because each is waiting for the other to release a resource. This situation results in a permanent standstill, where none of the threads can make progress.\n",
    "\n",
    "**Conditions for Deadlock (Coffman Conditions)**:\n",
    "1. **Mutual Exclusion**: At least one resource must be held in a non-shareable mode (i.e., it can only be held by one thread at a time).\n",
    "2. **Hold and Wait**: A thread holding at least one resource is waiting to acquire additional resources held by other threads.\n",
    "3. **No Preemption**: Resources cannot be forcibly taken away from a thread holding them; they must be released voluntarily.\n",
    "4. **Circular Wait**: A set of threads are waiting for each other in a circular chain, with each thread holding a resource that the next thread in the chain needs.\n",
    "\n",
    "**Example of Deadlock**:\n",
    "- Thread 1 holds **Resource A** and waits for **Resource B**.\n",
    "- Thread 2 holds **Resource B** and waits for **Resource A**.\n",
    "Both threads are now in a deadlock because neither can proceed.\n",
    "\n",
    "### Race Conditions:\n",
    "\n",
    "A **race condition** occurs when two or more threads access shared resources (e.g., variables, files, or memory) simultaneously and at least one of the threads modifies the resource. The outcome of the execution depends on the non-deterministic order in which the threads execute, leading to unpredictable behavior.\n",
    "\n",
    "**Key Characteristics of Race Conditions**:\n",
    "1. **Concurrent Access**: Multiple threads access shared resources at the same time.\n",
    "2. **Modification of Shared Resources**: At least one thread modifies the shared resource.\n",
    "3. **Unpredictable Results**: The final outcome depends on the order of execution, which is not guaranteed, leading to inconsistent or incorrect results.\n",
    "\n",
    "\n",
    "### Key Differences:\n",
    "- **Deadlock**: Threads are stuck waiting for each other indefinitely, resulting in no progress.\n",
    "- **Race Condition**: Threads may complete successfully, but the final outcome depends on the timing of thread execution, potentially causing incorrect results.\n"
   ]
  }
 ],
 "metadata": {
  "kernelspec": {
   "display_name": "Python 3",
   "language": "python",
   "name": "python3"
  },
  "language_info": {
   "codemirror_mode": {
    "name": "ipython",
    "version": 3
   },
   "file_extension": ".py",
   "mimetype": "text/x-python",
   "name": "python",
   "nbconvert_exporter": "python",
   "pygments_lexer": "ipython3",
   "version": "3.10.0"
  }
 },
 "nbformat": 4,
 "nbformat_minor": 2
}
