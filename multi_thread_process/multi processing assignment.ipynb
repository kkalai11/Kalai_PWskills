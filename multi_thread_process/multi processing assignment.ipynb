{
 "cells": [
  {
   "cell_type": "markdown",
   "metadata": {},
   "source": [
    "#Q1. What is multiprocessing in python? Why is it useful?\n",
    "\n",
    "Multiprocessing is a way to run multiple process parellaly on a computer . It is a way to take advantages on a computer to run multiple tasks at the same time . this will help to speed up the process & run parrellaly \n"
   ]
  },
  {
   "cell_type": "markdown",
   "metadata": {},
   "source": [
    "#Q2. What are the differences between multiprocessing and multithreading?\n",
    " \n",
    " the difference between multiprocessing & multi threading is that multiprocessing allows multiple process to run parrelally on a computer and multi threading allows multiple thread to run conncurrently within single process "
   ]
  },
  {
   "cell_type": "code",
   "execution_count": 4,
   "metadata": {},
   "outputs": [
    {
     "name": "stdout",
     "output_type": "stream",
     "text": [
      "Done!\n"
     ]
    }
   ],
   "source": [
    "#Q3. Write a python code to create a process using the multiprocessing module.\n",
    "\n",
    "import multiprocessing\n",
    "\n",
    "def len_of_string(string):\n",
    "    print(f\"length of {string} is {len(string)}\")\n",
    "\n",
    "if __name__==\"__main__\":\n",
    "    p1 = multiprocessing.Process(target=len_of_string, args=(\"Hello\",))\n",
    "    p1.start()\n",
    "    p1.join()\n",
    "    print(\"Done!\")\n",
    "\n",
    "#Output: length of Hello is 5\n",
    "#        Done!"
   ]
  },
  {
   "cell_type": "code",
   "execution_count": null,
   "metadata": {},
   "outputs": [],
   "source": [
    "#Q4. What is a multiprocessing pool in python? Why is it used?\n",
    "\n",
    "#A pool is a group of worker processes that are used to perform tasks.\n",
    "#  It is used to distribute the tasks across the worker processes.\n",
    "# Example of using pool:\n",
    "\n",
    "import multiprocessing\n",
    "from multiprocessing import Pool\n",
    "\n",
    "def cube(n):\n",
    "    return n**3\n",
    "\n",
    "if __name__==\"__main__\":\n",
    "    m = multiprocessing.Pool(3)\n",
    "    output =m.map(cube,range(12))\n",
    "    print(output)   \n",
    "\n",
    "#Output: [0, 1, 8, 27, 64, 125, 216, 343, 512, 729, 1000, 1331]\n"
   ]
  },
  {
   "cell_type": "code",
   "execution_count": null,
   "metadata": {},
   "outputs": [],
   "source": [
    "#Q5. How can we create a pool of worker processes in python using the multiprocessing module?\n",
    "#Ans: We can create a pool of worker processes in python using the multiprocessing module by using the Pool class.\n",
    "# A pool allows you to parallelize the execution of a function across multiple input values, distributing the workload among a set of worker processes.\n",
    "\n",
    "#Example:\n",
    "\n",
    "import multiprocessing\n",
    "from multiprocessing import Pool\n",
    "\n",
    "def square(n):\n",
    "    return n**2\n",
    "\n",
    "if __name__==\"__main__\":\n",
    "    m = multiprocessing.Pool(3)\n",
    "    output =m.map(square,range(12))\n",
    "    print(output)  \n",
    "\n",
    "#Output: [0, 1, 4, 9, 16, 25, 36, 49, 64, 81, 100, 121] \n",
    "\n"
   ]
  },
  {
   "cell_type": "code",
   "execution_count": null,
   "metadata": {},
   "outputs": [],
   "source": [
    "#Q6. Write a python program to create 4 processes, each process should print a different number using the\n",
    "#multiprocessing module in python.\n",
    "\n",
    "import multiprocessing\n",
    "\n",
    "def print_num(num):\n",
    "    print(num)\n",
    "\n",
    "if __name__==\"__main__\":\n",
    "    p1 = multiprocessing.Process(target=print_num, args=(1,))\n",
    "    p2 = multiprocessing.Process(target=print_num, args=(2,))\n",
    "    p3 = multiprocessing.Process(target=print_num, args=(3,))\n",
    "    p4 = multiprocessing.Process(target=print_num, args=(4,))\n",
    "    p1.start()\n",
    "    p2.start()\n",
    "    p3.start()\n",
    "    p4.start()\n",
    "    p1.join()\n",
    "    p2.join()\n",
    "    p3.join()\n",
    "    p4.join()\n",
    "    print(\"Done!\")\n",
    "\n",
    "#Output: 1\n",
    "#        2\n",
    "#        3\n",
    "#        4\n",
    "\n",
    "\n"
   ]
  }
 ],
 "metadata": {
  "kernelspec": {
   "display_name": "base",
   "language": "python",
   "name": "python3"
  },
  "language_info": {
   "codemirror_mode": {
    "name": "ipython",
    "version": 3
   },
   "file_extension": ".py",
   "mimetype": "text/x-python",
   "name": "python",
   "nbconvert_exporter": "python",
   "pygments_lexer": "ipython3",
   "version": "3.10.14"
  }
 },
 "nbformat": 4,
 "nbformat_minor": 2
}
