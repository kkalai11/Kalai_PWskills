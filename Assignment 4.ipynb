{
 "cells": [
  {
   "cell_type": "markdown",
   "id": "eb6c0607",
   "metadata": {},
   "source": [
    "Q1 Create a python program to sort the given list of tuples based on the integer value using a lambda function\n",
    "\n"
   ]
  },
  {
   "cell_type": "code",
   "execution_count": 21,
   "id": "184b98a0",
   "metadata": {},
   "outputs": [
    {
     "data": {
      "text/plain": [
       "[('Virat Kohli', 24936),\n",
       " ('Jack Kallies', 25534),\n",
       " ('Ricky Ponting', 27483),\n",
       " ('Sachin Tendulkar', 34357)]"
      ]
     },
     "execution_count": 21,
     "metadata": {},
     "output_type": "execute_result"
    }
   ],
   "source": [
    "\n",
    "T = [('Sachin Tendulkar',34357),('Ricky Ponting',27483),('Jack Kallies',25534),('Virat Kohli',24936)]\n",
    "#asending order \n",
    "T.sort(key=lambda x:x[1])\n",
    "\n",
    "T"
   ]
  },
  {
   "cell_type": "code",
   "execution_count": 22,
   "id": "8d117ef8",
   "metadata": {},
   "outputs": [
    {
     "data": {
      "text/plain": [
       "[('Sachin Tendulkar', 34357),\n",
       " ('Ricky Ponting', 27483),\n",
       " ('Jack Kallies', 25534),\n",
       " ('Virat Kohli', 24936)]"
      ]
     },
     "execution_count": 22,
     "metadata": {},
     "output_type": "execute_result"
    }
   ],
   "source": [
    "# desending order\n",
    "T.sort(key=lambda x:x[1],reverse=True)\n",
    "\n",
    "T\n",
    "\n"
   ]
  },
  {
   "cell_type": "markdown",
   "id": "1db89af9",
   "metadata": {},
   "source": [
    "Q2. Write a python program to find the squares of all the numbers in the given list of integers using lambda and map functions "
   ]
  },
  {
   "cell_type": "code",
   "execution_count": 30,
   "id": "7e16c8f9",
   "metadata": {},
   "outputs": [
    {
     "data": {
      "text/plain": [
       "[1, 4, 9, 16, 25, 36, 49, 64, 81, 100]"
      ]
     },
     "execution_count": 30,
     "metadata": {},
     "output_type": "execute_result"
    }
   ],
   "source": [
    "l= [1,2,3,4,5,6,7,8,9,10]\n",
    "\n",
    "#Ans: \n",
    "\n",
    "list(map(lambda x:x**2,l))"
   ]
  },
  {
   "cell_type": "markdown",
   "id": "0cbabef4",
   "metadata": {},
   "source": [
    "Q3: write a python program to convert the given list of integers into a tuble of strings. use map and lamda functions\n",
    "    "
   ]
  },
  {
   "cell_type": "code",
   "execution_count": 31,
   "id": "1d920ef3",
   "metadata": {},
   "outputs": [],
   "source": [
    "S=[1,2,3,4,5,6,7,8,9,10]"
   ]
  },
  {
   "cell_type": "code",
   "execution_count": 36,
   "id": "9d1d4f16",
   "metadata": {},
   "outputs": [
    {
     "data": {
      "text/plain": [
       "('1', '2', '3', '4', '5', '6', '7', '8', '9', '10')"
      ]
     },
     "execution_count": 36,
     "metadata": {},
     "output_type": "execute_result"
    }
   ],
   "source": [
    "#Ans : using tuple () to write the output in tuple & str will convert the element of list into string output\n",
    "\n",
    "tuple(map(lambda x:str(x),S))"
   ]
  },
  {
   "cell_type": "markdown",
   "id": "5cfad62f",
   "metadata": {},
   "source": [
    "Q4: write a python program using reduce function to compute the product of a list containing numbers from 1 to 25"
   ]
  },
  {
   "cell_type": "code",
   "execution_count": 45,
   "id": "25c870c0",
   "metadata": {},
   "outputs": [],
   "source": [
    "x=range(1,26) # provides the list of numebers from 1 to 25\n"
   ]
  },
  {
   "cell_type": "code",
   "execution_count": 46,
   "id": "73a56cb9",
   "metadata": {},
   "outputs": [
    {
     "data": {
      "text/plain": [
       "15511210043330985984000000"
      ]
     },
     "execution_count": 46,
     "metadata": {},
     "output_type": "execute_result"
    }
   ],
   "source": [
    "from functools import reduce \n",
    "reduce(lambda x,y:x*y,x)"
   ]
  },
  {
   "cell_type": "code",
   "execution_count": 49,
   "id": "544996ae",
   "metadata": {},
   "outputs": [
    {
     "data": {
      "text/plain": [
       "120"
      ]
     },
     "execution_count": 49,
     "metadata": {},
     "output_type": "execute_result"
    }
   ],
   "source": [
    "# check \n",
    "y=range(1,6)\n",
    "reduce(lambda x,y:x*y,y)"
   ]
  },
  {
   "cell_type": "markdown",
   "id": "ea0e637f",
   "metadata": {},
   "source": [
    "Q5: Write a python program to filter the numbers in a given list that are divisible by 2 and 3 using the filter function"
   ]
  },
  {
   "cell_type": "code",
   "execution_count": 50,
   "id": "d6772bb1",
   "metadata": {},
   "outputs": [],
   "source": [
    "l=[2,3,6,9,27,60,90,120,55,46]"
   ]
  },
  {
   "cell_type": "code",
   "execution_count": 59,
   "id": "cc8411e0",
   "metadata": {},
   "outputs": [
    {
     "data": {
      "text/plain": [
       "[2, 3, 6, 9, 27, 60, 90, 120, 46]"
      ]
     },
     "execution_count": 59,
     "metadata": {},
     "output_type": "execute_result"
    }
   ],
   "source": [
    "list(filter(lambda x : (x%2==0 or x%3==0) ,l )) # or is used to add multiple conditions "
   ]
  },
  {
   "cell_type": "markdown",
   "id": "7bfc2d06",
   "metadata": {},
   "source": [
    "Q6: write a python program to find palindromes in the given list of strings using lambda and filter function"
   ]
  },
  {
   "cell_type": "code",
   "execution_count": 89,
   "id": "5f18f068",
   "metadata": {},
   "outputs": [],
   "source": [
    "l=['python','php','aba','radar','level']\n",
    "      \n"
   ]
  },
  {
   "cell_type": "code",
   "execution_count": 101,
   "id": "7f46789f",
   "metadata": {},
   "outputs": [
    {
     "data": {
      "text/plain": [
       "['php', 'aba', 'radar', 'level']"
      ]
     },
     "execution_count": 101,
     "metadata": {},
     "output_type": "execute_result"
    }
   ],
   "source": [
    "#Ans : palindromes means it should spell the same on both backwards and forwards\n",
    "list(filter(lambda x: x==x[::-1],l))  # x[::-1] reverses the string"
   ]
  }
 ],
 "metadata": {
  "kernelspec": {
   "display_name": "Python 3 (ipykernel)",
   "language": "python",
   "name": "python3"
  },
  "language_info": {
   "codemirror_mode": {
    "name": "ipython",
    "version": 3
   },
   "file_extension": ".py",
   "mimetype": "text/x-python",
   "name": "python",
   "nbconvert_exporter": "python",
   "pygments_lexer": "ipython3",
   "version": "3.11.3"
  }
 },
 "nbformat": 4,
 "nbformat_minor": 5
}
