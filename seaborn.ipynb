{
 "cells": [
  {
   "cell_type": "code",
   "execution_count": 1,
   "id": "cfb925a7",
   "metadata": {},
   "outputs": [],
   "source": [
    "#Que 1: Name any five plots that we can plot using the Seaborn library. Also, state the uses of each plot.\n",
    "#Ans:\n",
    "#1. Scatter Plot: Used to visualize the relationship between two continuous variables.\n",
    "#2. Line Plot: Used to visualize the trend of a variable over time or another continuous variable.\n",
    "#3. Bar Plot: Used to compare the values of different categories or groups.\n",
    "#4. Box Plot: Used to visualize the distribution of a continuous variable across different categories.\n",
    "#5. Heatmap: Used to visualize the correlation between multiple variables in a matrix format.\n"
   ]
  }
 ],
 "metadata": {
  "kernelspec": {
   "display_name": "base",
   "language": "python",
   "name": "python3"
  },
  "language_info": {
   "codemirror_mode": {
    "name": "ipython",
    "version": 3
   },
   "file_extension": ".py",
   "mimetype": "text/x-python",
   "name": "python",
   "nbconvert_exporter": "python",
   "pygments_lexer": "ipython3",
   "version": "3.10.14"
  }
 },
 "nbformat": 4,
 "nbformat_minor": 5
}
