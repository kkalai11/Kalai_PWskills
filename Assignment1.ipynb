{
 "cells": [
  {
   "cell_type": "markdown",
   "id": "e03be523-04e2-4223-b1f4-2b53d87b1478",
   "metadata": {},
   "source": [
    "\n",
    "Q1. Create one variable containing following type of data:\n",
    "\n",
    "(i)\tstring\n",
    "\n",
    "(ii)\tlist\n",
    "\n",
    "(iii)\tfloat\n",
    "\n",
    "(iv)\ttuple"
   ]
  },
  {
   "cell_type": "code",
   "execution_count": 1,
   "id": "ca31d112-1e34-4ed1-8c64-02e63ca0302b",
   "metadata": {},
   "outputs": [],
   "source": [
    "#1) creating variables for different data type\n",
    "#string :\n",
    "\n",
    "a='Assignment'\n",
    "\n",
    "#list \n",
    "\n",
    "b= [ 1,2,3,\"hello\",\"this\" , \"is\",\"list\",4,6+4j]\n",
    "\n",
    "# float\n",
    "\n",
    "pi= 3.14\n",
    "\n",
    "#tuple \n",
    " \n",
    "c=(1,2,3,5,6,7)"
   ]
  },
  {
   "cell_type": "markdown",
   "id": "bdd88dd8-4612-4bad-bf93-887a85e731ab",
   "metadata": {},
   "source": [
    "Q2. Given are some following variables containing data:\n",
    "\n",
    "(i)\tvar1 = ‘ ‘\n",
    "\n",
    "(ii)\tvar2 = ‘[ DS , ML , Python]’\n",
    "\n",
    "(iii)\tvar3 = [ ‘DS’ , ’ML’ , ‘Python’ ]\n",
    "\n",
    "(iv)\tvar4 = 1\n",
    "\n",
    "What will be the data type of the above given variable."
   ]
  },
  {
   "cell_type": "code",
   "execution_count": 2,
   "id": "47bb691f-ac75-4289-b7db-e5a480a750b6",
   "metadata": {},
   "outputs": [],
   "source": [
    "# var1 -- data type is string (str)\n",
    "# var 2 data type is string(str) because list has placed inside quote\n",
    "#var3 -- data type is list ( list containes string values)\n",
    "# var 4 data type is integer(int)\n"
   ]
  },
  {
   "cell_type": "markdown",
   "id": "45790f1e-5a53-4390-b9f0-f8676a714f7d",
   "metadata": {},
   "source": [
    "Q3. Explain the use of the following operators using an example:\n",
    "\n",
    "(i)\t/  \n",
    "\n",
    "(ii)\t% \n",
    "\n",
    "(iii)\t//\n",
    "\n",
    "(iv)\t**"
   ]
  },
  {
   "cell_type": "code",
   "execution_count": 3,
   "id": "d8b3e55d-99dd-4f1e-af72-70a326a308ad",
   "metadata": {},
   "outputs": [
    {
     "data": {
      "text/plain": [
       "5.0"
      ]
     },
     "execution_count": 3,
     "metadata": {},
     "output_type": "execute_result"
    }
   ],
   "source": [
    "# i) / operator is used to divide the numbers \n",
    "a= 10/2 \n",
    "a"
   ]
  },
  {
   "cell_type": "code",
   "execution_count": 4,
   "id": "e601ad7b-84a3-4cc3-b928-e57187878536",
   "metadata": {},
   "outputs": [
    {
     "data": {
      "text/plain": [
       "1"
      ]
     },
     "execution_count": 4,
     "metadata": {},
     "output_type": "execute_result"
    }
   ],
   "source": [
    "#ii) % is used to for modulo operation. if we use 2 numbers with this operator will give the reminder as a result\n",
    "\n",
    "b= 16%3\n",
    "b\n"
   ]
  },
  {
   "cell_type": "code",
   "execution_count": 5,
   "id": "a19f7649-f7aa-4824-943b-2e4adb5627a3",
   "metadata": {},
   "outputs": [
    {
     "data": {
      "text/plain": [
       "3"
      ]
     },
     "execution_count": 5,
     "metadata": {},
     "output_type": "execute_result"
    }
   ],
   "source": [
    "#iii) // is floor division operator . This gives Qutoient of 2 numbers \n",
    "c= 10//3\n",
    "c\n"
   ]
  },
  {
   "cell_type": "code",
   "execution_count": 6,
   "id": "7085a3eb-789c-4502-96a6-8e239372687a",
   "metadata": {},
   "outputs": [
    {
     "data": {
      "text/plain": [
       "9"
      ]
     },
     "execution_count": 6,
     "metadata": {},
     "output_type": "execute_result"
    }
   ],
   "source": [
    "#iv) ** is exponential operatior. if we want to descripe 3 to the power of 2 we can use this symbol \n",
    "d= 3**2\n",
    "d"
   ]
  },
  {
   "cell_type": "markdown",
   "id": "b9e2a558-4f92-416c-8693-7445cd9bb0d0",
   "metadata": {},
   "source": [
    "Q4. Create a list of length 10 of your choice containing multiple types of data. Using for loop print the\n",
    "element and its data type"
   ]
  },
  {
   "cell_type": "code",
   "execution_count": 7,
   "id": "15838ffb-bfc3-4d13-aee9-fa2838a8913f",
   "metadata": {},
   "outputs": [
    {
     "name": "stdout",
     "output_type": "stream",
     "text": [
      "1\n",
      "type of this element is <class 'int'>\n",
      "3.5\n",
      "type of this element is <class 'float'>\n",
      "4\n",
      "type of this element is <class 'int'>\n",
      "hello\n",
      "type of this element is <class 'str'>\n",
      "high\n",
      "type of this element is <class 'str'>\n",
      "8\n",
      "type of this element is <class 'int'>\n",
      "(6+4j)\n",
      "type of this element is <class 'complex'>\n",
      "95\n",
      "type of this element is <class 'int'>\n",
      "10\n",
      "type of this element is <class 'int'>\n",
      "x\n",
      "type of this element is <class 'str'>\n",
      "complete\n"
     ]
    }
   ],
   "source": [
    "x= [ 1,3.5,4,\"hello\",'high',8,6+4j,95,10,'x']\n",
    "\n",
    "for i in x:\n",
    "    print(i)\n",
    "    print('type of this element is', type(i))\n",
    "    \n",
    "else:\n",
    "    print( 'complete')\n",
    "    \n"
   ]
  },
  {
   "cell_type": "markdown",
   "id": "429bc010-1f61-40e2-a621-43da1b389e76",
   "metadata": {},
   "source": [
    "Q5. Using a while loop, verify if the number A is purely divisible by number B and if so then how many \n",
    "times it can be divisible."
   ]
  },
  {
   "cell_type": "code",
   "execution_count": 9,
   "id": "6f87e3dc-c329-4bfb-98f7-a9f630e0f6fa",
   "metadata": {},
   "outputs": [
    {
     "ename": "IndentationError",
     "evalue": "unexpected indent (1017732229.py, line 8)",
     "output_type": "error",
     "traceback": [
      "\u001b[0;36m  Cell \u001b[0;32mIn[9], line 8\u001b[0;36m\u001b[0m\n\u001b[0;31m    if a%b==0:\u001b[0m\n\u001b[0m    ^\u001b[0m\n\u001b[0;31mIndentationError\u001b[0m\u001b[0;31m:\u001b[0m unexpected indent\n"
     ]
    }
   ],
   "source": [
    "print(\"Enter first number\")\n",
    "\n",
    "a =  10\n",
    "print(\"Enter second number\")\n",
    "b = 3\n",
    "\n",
    "#while (b<a):\n",
    "    if a%b==0:\n",
    "        print ( \" a is divisable by b\")\n",
    "        print(a//b)\n",
    "        b +=1\n",
    "        continue \n",
    "    else :\n",
    "        print(\" a is not divisable by b\")\n",
    "    "
   ]
  },
  {
   "cell_type": "markdown",
   "id": "ce726d90-f5ec-4f29-9d42-788078a831f4",
   "metadata": {},
   "source": [
    "not able to write the successful program "
   ]
  },
  {
   "cell_type": "markdown",
   "id": "04f85d3c-6d51-4b9b-82fb-9d28a591aa28",
   "metadata": {},
   "source": [
    "Q6.Create a list containing 25 int type data. Using for loop and if-else condition print if the element is \n",
    "divisible by 3 or not."
   ]
  },
  {
   "cell_type": "code",
   "execution_count": 19,
   "id": "f6decb28-026f-4d76-8a78-38b26f247884",
   "metadata": {},
   "outputs": [
    {
     "name": "stdout",
     "output_type": "stream",
     "text": [
      "3  is printable by 3\n",
      "6  is printable by 3\n",
      "9  is printable by 3\n",
      "12  is printable by 3\n",
      "15  is printable by 3\n",
      "18  is printable by 3\n",
      "21  is printable by 3\n",
      "24  is printable by 3\n"
     ]
    }
   ],
   "source": [
    "x =list(range(1,25))\n",
    "for i in x:\n",
    "    if i%3==0:\n",
    "        print( i ,\" is printable by 3\")\n",
    "    else:\n",
    "        i+=1\n",
    "          "
   ]
  },
  {
   "cell_type": "markdown",
   "id": "34db5a47-39b0-4563-95a8-d64ea6756f6a",
   "metadata": {},
   "source": [
    "Q7. What do you understand about mutable and immutable data types? Give examples for both showing \n",
    "this property."
   ]
  },
  {
   "cell_type": "markdown",
   "id": "212a7cfd-b06a-42bc-8a96-935d01ce8332",
   "metadata": {},
   "source": [
    "An object that allows to change/modify the members are called mutable. In python sets & lists are mutable objects\n",
    "for example am declaring x as list with 5 numbers 1 to 5 \n",
    "\n"
   ]
  },
  {
   "cell_type": "code",
   "execution_count": 20,
   "id": "7ffc2a51-2a48-4dae-a439-be87119c1b82",
   "metadata": {},
   "outputs": [
    {
     "data": {
      "text/plain": [
       "[1, 2, 3, 4]"
      ]
     },
     "execution_count": 20,
     "metadata": {},
     "output_type": "execute_result"
    }
   ],
   "source": [
    "x=list(range(1,5))\n",
    "x"
   ]
  },
  {
   "cell_type": "code",
   "execution_count": 21,
   "id": "3102bec2-13a1-4d5f-ad40-19c1aa266086",
   "metadata": {},
   "outputs": [
    {
     "data": {
      "text/plain": [
       "[1, 2, 3, 6]"
      ]
     },
     "execution_count": 21,
     "metadata": {},
     "output_type": "execute_result"
    }
   ],
   "source": [
    "x[3]=6\n",
    "x"
   ]
  },
  {
   "cell_type": "markdown",
   "id": "9f8ddb85-66f7-4974-b3ee-94a118a9a8bb",
   "metadata": {},
   "source": [
    "i can chnage it members by using modification as x[3]= 6. However in immutable objects it is modification is not allowed . Strings& tuples are immutable objects of python \n",
    "for example let me declare a tuble & try to modify"
   ]
  },
  {
   "cell_type": "code",
   "execution_count": 26,
   "id": "dc579abf-4b46-4cd7-bba5-f259a07e1224",
   "metadata": {},
   "outputs": [
    {
     "data": {
      "text/plain": [
       "tuple"
      ]
     },
     "execution_count": 26,
     "metadata": {},
     "output_type": "execute_result"
    }
   ],
   "source": [
    "x=(1,2,3,4,5)\n",
    "type(x)"
   ]
  },
  {
   "cell_type": "code",
   "execution_count": 28,
   "id": "64435236-18e6-4719-b674-98c8feaca388",
   "metadata": {},
   "outputs": [
    {
     "ename": "TypeError",
     "evalue": "'tuple' object is not callable",
     "output_type": "error",
     "traceback": [
      "\u001b[0;31m---------------------------------------------------------------------------\u001b[0m",
      "\u001b[0;31mTypeError\u001b[0m                                 Traceback (most recent call last)",
      "Cell \u001b[0;32mIn[28], line 1\u001b[0m\n\u001b[0;32m----> 1\u001b[0m \u001b[43mx\u001b[49m\u001b[43m(\u001b[49m\u001b[38;5;241;43m3\u001b[39;49m\u001b[43m)\u001b[49m\u001b[38;5;241m==\u001b[39m\u001b[38;5;241m6\u001b[39m\n",
      "\u001b[0;31mTypeError\u001b[0m: 'tuple' object is not callable"
     ]
    }
   ],
   "source": [
    "x(3)==6"
   ]
  },
  {
   "cell_type": "markdown",
   "id": "92cab711-0504-4dc2-8b2d-599b613957ce",
   "metadata": {},
   "source": [
    "when we try to modify tuble it gives error"
   ]
  }
 ],
 "metadata": {
  "kernelspec": {
   "display_name": "Python 3 (ipykernel)",
   "language": "python",
   "name": "python3"
  },
  "language_info": {
   "codemirror_mode": {
    "name": "ipython",
    "version": 3
   },
   "file_extension": ".py",
   "mimetype": "text/x-python",
   "name": "python",
   "nbconvert_exporter": "python",
   "pygments_lexer": "ipython3",
   "version": "3.10.8"
  }
 },
 "nbformat": 4,
 "nbformat_minor": 5
}
