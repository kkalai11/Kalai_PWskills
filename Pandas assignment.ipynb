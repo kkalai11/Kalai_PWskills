{
 "cells": [
  {
   "cell_type": "markdown",
   "id": "4cf529db",
   "metadata": {},
   "source": [
    "#Q1. List any five functions of the pandas library with execution.\n",
    "read_csv()\n",
    "describe()\n",
    "groupby()\n",
    "isnull()\n",
    "dropna()"
   ]
  },
  {
   "cell_type": "markdown",
   "id": "749fbc4b",
   "metadata": {},
   "source": [
    "<!-- Q2. Given a Pandas DataFrame df with columns 'A', 'B', and 'C', write a Python function to re-index the\n",
    "DataFrame with a new index that starts from 1 and increments by 2 for each row. -->"
   ]
  },
  {
   "cell_type": "code",
   "execution_count": null,
   "id": "5a92cc92",
   "metadata": {},
   "outputs": [
    {
     "name": "stdout",
     "output_type": "stream",
     "text": [
      "   A  B\n",
      "1  1  4\n",
      "3  2  5\n",
      "5  3  6\n"
     ]
    }
   ],
   "source": [
    "import pandas as pd\n",
    "\n",
    "def reindex_dataframe(df, new_index):\n",
    "  \n",
    "    new_index = range(1,2*len(df)+1,2)\n",
    "    df.index=new_index\n",
    "    return df\n",
    "df = pd.DataFrame({'A': [1, 2, 3], 'B': [4, 5, 6]})\n",
    "df = reindex_dataframe(df, range(1, 7, 2))\n",
    "print(df)\n"
   ]
  },
  {
   "cell_type": "code",
   "execution_count": null,
   "id": "0cd73485",
   "metadata": {},
   "outputs": [],
   "source": [
    "# Q3. You have a Pandas DataFrame df with a column named 'Values'. Write a Python function that\n",
    "# iterates over the DataFrame and calculates the sum of the first three values in the 'Values' column. The\n",
    "# function should print the sum to the console.\n",
    "# For example, if the 'Values' column of df contains the values [10, 20, 30, 40, 50], your function should\n",
    "# calculate and print the sum of the first three values, which is 60."
   ]
  },
  {
   "cell_type": "code",
   "execution_count": null,
   "id": "1d492e5f",
   "metadata": {},
   "outputs": [],
   "source": [
    "df= pd.DataFrame({'Values':[10,20,30,40,50]})\n",
    "    \"\"\"\n",
    "    This function calculates the sum of the first three values in the 'Values' column of the DataFrame.\n",
    "    \n",
    "    Parameters:\n",
    "    df (pd.DataFrame): The input DataFrame containing a 'Values' column.\n",
    "    \n",
    "    Returns:\n",
    "    None: Prints the sum of the first three values.\n",
    "    \"\"\"\n",
    "def sum_first_three_values(df):\n",
    "    if 'Values' in df.columns:\n",
    "        total = df['Values'].head(3).sum()\n",
    "        print(total)\n",
    "    else:\n",
    "        print(\"Column 'Values' not found in DataFrame.\")"
   ]
  },
  {
   "cell_type": "code",
   "execution_count": 3,
   "id": "6b062212",
   "metadata": {},
   "outputs": [
    {
     "name": "stdout",
     "output_type": "stream",
     "text": [
      "             Text  word_count\n",
      "0     hello world           2\n",
      "1  this is a test           4\n",
      "2        checking           1\n",
      "3           words           1\n",
      "4           count           1\n"
     ]
    }
   ],
   "source": [
    "# Q4. Given a Pandas DataFrame df with a column 'Text', write a Python function to create a new column\n",
    "# 'Word_Count' that contains the number of words in each row of the 'Text' column.\n",
    "\n",
    "df=pd.DataFrame({\"Text\": [\"hello world\",\"this is a test\",\"checking\",\"words\",\"count\"]})\n",
    "\n",
    "def add_word_count_column(df):\n",
    "    df['word_count']= df['Text'].apply(lambda x:len(x.split()))\n",
    "    return df\n",
    "df1= add_word_count_column(df)\n",
    "print(df1)"
   ]
  },
  {
   "cell_type": "code",
   "execution_count": 6,
   "id": "033469d0",
   "metadata": {},
   "outputs": [
    {
     "data": {
      "text/plain": [
       "(5, 2)"
      ]
     },
     "execution_count": 6,
     "metadata": {},
     "output_type": "execute_result"
    }
   ],
   "source": [
    "df.shape"
   ]
  },
  {
   "cell_type": "code",
   "execution_count": null,
   "id": "a5b0b33c",
   "metadata": {},
   "outputs": [],
   "source": [
    "# Q5. How are DataFrame.size() and DataFrame.shape() different?\n",
    "# dataframe.shape provides a tuple representing the dimensions of the DataFrame (rows, columns),\n",
    "# while DataFrame.size returns the total number of elements in the DataFrame (rows * columns).\n"
   ]
  },
  {
   "cell_type": "code",
   "execution_count": null,
   "id": "2dba5539",
   "metadata": {},
   "outputs": [],
   "source": [
    "# Q6. Which function of pandas do we use to read an excel file?\n",
    "# We use the `pd.read_excel()` function to read an Excel file in pandas."
   ]
  },
  {
   "cell_type": "code",
   "execution_count": 13,
   "id": "7cd755f7",
   "metadata": {},
   "outputs": [],
   "source": [
    "import pandas as pd\n",
    "df = pd.DataFrame({\"Email\":[\"kalaiselvi.k@shell.com\",\"muru.mmc04@gmail.com\",'sathy@gmail.com']})"
   ]
  },
  {
   "cell_type": "code",
   "execution_count": 14,
   "id": "ee09e0d8",
   "metadata": {},
   "outputs": [
    {
     "name": "stdout",
     "output_type": "stream",
     "text": [
      "                    Email      Username\n",
      "0  kalaiselvi.k@shell.com  kalaiselvi.k\n",
      "1    muru.mmc04@gmail.com    muru.mmc04\n",
      "2         sathy@gmail.com         sathy\n"
     ]
    }
   ],
   "source": [
    "# Q7. You have a Pandas DataFrame df that contains a column named 'Email' that contains email\n",
    "# addresses in the format 'username@domain.com'. Write a Python function that creates a new column\n",
    "# 'Username' in df that contains only the username part of each email address.\n",
    "# The username is the part of the email address that appears before the '@' symbol. For example, if the\n",
    "# email address is 'john.doe@example.com', the 'Username' column should contain 'john.doe'. Your\n",
    "# function should extract the username from each email address and store it in the new 'Username'\n",
    "# column.\n",
    "\n",
    "\n",
    "def extract_username(df):\n",
    "    df['Username']= df['Email'].apply(lambda x:x.split('@')[0])\n",
    "    return df\n",
    "df1= extract_username(df)\n",
    "print(df1)\n",
    "\n",
    "\n"
   ]
  },
  {
   "cell_type": "code",
   "execution_count": null,
   "id": "2e6f97de",
   "metadata": {},
   "outputs": [],
   "source": [
    "# Q8. You have a Pandas DataFrame df with columns 'A', 'B', and 'C'. Write a Python function that selects\n",
    "# all rows where the value in column 'A' is greater than 5 and the value in column 'B' is less than 10. The\n",
    "# function should return a new DataFrame that contains only the selected rows.\n",
    "# For example, if df contains the following values:\n",
    "# A B C\n",
    "# 0 3 5 1\n",
    "# 1 8 2 7\n",
    "# 2 6 9 4\n",
    "# 3 2 3 5\n",
    "# 4 9 1 2\n",
    "\n",
    "# Assignment\n",
    "\n",
    "# Data Science Masters\n",
    "\n",
    "# Your function should select the following rows: A B C\n",
    "# 1 8 2 7\n",
    "# 4 9 1 2\n",
    "# The function should return a new DataFrame that contains only the selected rows."
   ]
  },
  {
   "cell_type": "code",
   "execution_count": 19,
   "id": "d059808a",
   "metadata": {},
   "outputs": [
    {
     "name": "stdout",
     "output_type": "stream",
     "text": [
      "   A  B  C\n",
      "0  3  5  1\n",
      "1  8  2  7\n",
      "2  6  9  4\n",
      "3  2  3  5\n",
      "4  9  1  2\n",
      "   A  B  C\n",
      "1  8  2  7\n",
      "2  6  9  4\n",
      "4  9  1  2\n"
     ]
    }
   ],
   "source": [
    "df = pd.DataFrame({\n",
    "    'A': [3, 8, 6, 2, 9],\n",
    "    'B': [5, 2, 9, 3, 1],\n",
    "    'C': [1, 7, 4, 5, 2]\n",
    "})\n",
    "print(df)\n",
    "def select_rows(df):\n",
    "    selected_df = df[(df['A']>5) & (df['B']<10)]\n",
    "    return selected_df\n",
    "\n",
    "selected_rows = select_rows(df)\n",
    "print(selected_rows)"
   ]
  },
  {
   "cell_type": "code",
   "execution_count": null,
   "id": "95d9ab23",
   "metadata": {},
   "outputs": [],
   "source": []
  },
  {
   "cell_type": "code",
   "execution_count": 20,
   "id": "533a1f68",
   "metadata": {},
   "outputs": [
    {
     "name": "stdout",
     "output_type": "stream",
     "text": [
      "Mean: 30.0, Median: 30.0, Standard Deviation: 15.811388300841896\n"
     ]
    }
   ],
   "source": [
    "# Q9. Given a Pandas DataFrame df with a column 'Values', write a Python function to calculate the mean,\n",
    "# median, and standard deviation of the values in the 'Values' column.\n",
    "\n",
    "df = pd.DataFrame({'Values': [10, 20, 30, 40, 50]})\n",
    "\n",
    "def calculate_statistics(df):\n",
    "    if 'Values' in df.columns:\n",
    "        mean_value = df['Values'].mean()\n",
    "        median_value = df['Values'].median()\n",
    "        std_dev_value = df['Values'].std()\n",
    "        return mean_value, median_value, std_dev_value\n",
    "    else:\n",
    "        return \"Column 'Values' not found in DataFrame.\"\n",
    "mean, median, std_dev = calculate_statistics(df)\n",
    "print(f\"Mean: {mean}, Median: {median}, Standard Deviation: {std_dev}\")"
   ]
  },
  {
   "cell_type": "code",
   "execution_count": 23,
   "id": "269f36c0",
   "metadata": {},
   "outputs": [
    {
     "name": "stdout",
     "output_type": "stream",
     "text": [
      "        Date  Sales  MovingAverage\n",
      "0 2023-01-01    100          100.0\n",
      "1 2023-01-02    200          150.0\n",
      "2 2023-01-03    300          200.0\n",
      "3 2023-01-04    400          250.0\n",
      "4 2023-01-05    500          300.0\n",
      "5 2023-01-06    600          350.0\n",
      "6 2023-01-07    700          400.0\n",
      "7 2023-01-08    800          500.0\n",
      "8 2023-01-09    900          600.0\n",
      "9 2023-01-10   1000          700.0\n"
     ]
    }
   ],
   "source": [
    "# Q10. Given a Pandas DataFrame df with a column 'Sales' and a column 'Date', write a Python function to\n",
    "# create a new column 'MovingAverage' that contains the moving average of the sales for the past 7 days\n",
    "# for each row in the DataFrame. The moving average should be calculated using a window of size 7 and\n",
    "# should include the current day.\n",
    "def calculate_moving_average(df):\n",
    "    if 'Sales' in df.columns and 'Date' in df.columns:\n",
    "        df['MovingAverage'] = df['Sales'].rolling(window=7, min_periods=1).mean()\n",
    "        return df\n",
    "    else:\n",
    "        return \"Columns 'Sales' and 'Date' not found in DataFrame.\"\n",
    "    \n",
    "df = pd.DataFrame({\n",
    "    'Sales': [100, 200, 300, 400, 500, 600, 700, 800, 900, 1000],\n",
    "    'Date': pd.date_range(start='2023-01-01', periods=10)\n",
    "})\n",
    "df_with_moving_average = calculate_moving_average(df)\n",
    "print(df_with_moving_average[['Date', 'Sales', 'MovingAverage']])\n",
    "\n"
   ]
  },
  {
   "cell_type": "code",
   "execution_count": null,
   "id": "037b95e1",
   "metadata": {},
   "outputs": [],
   "source": [
    "# Q11. You have a Pandas DataFrame df with a column 'Date'. Write a Python function that creates a new\n",
    "# column 'Weekday' in the DataFrame. The 'Weekday' column should contain the weekday name (e.g.\n",
    "# Monday, Tuesday) corresponding to each date in the 'Date' column.\n",
    "# For example, if df contains the following values:\n",
    "# Date\n",
    "# 0 2023-01-01\n",
    "# 1 2023-01-02\n",
    "# 2 2023-01-03\n",
    "# 3 2023-01-04\n",
    "# 4 2023-01-05\n",
    "# Your function should create the following DataFrame:\n",
    "\n",
    "# Date Weekday\n",
    "# 0 2023-01-01 Sunday\n",
    "# 1 2023-01-02 Monday\n",
    "# 2 2023-01-03 Tuesday\n",
    "# 3 2023-01-04 Wednesday\n",
    "# 4 2023-01-05 Thursday\n",
    "# The function should return the modified DataFrame."
   ]
  },
  {
   "cell_type": "code",
   "execution_count": 27,
   "id": "8b7a97a3",
   "metadata": {},
   "outputs": [
    {
     "name": "stdout",
     "output_type": "stream",
     "text": [
      "        Date    Weekday\n",
      "0 2023-01-01     Sunday\n",
      "1 2023-01-02     Monday\n",
      "2 2023-01-03    Tuesday\n",
      "3 2023-01-04  Wednesday\n",
      "4 2023-01-05   Thursday\n",
      "5 2023-01-06     Friday\n",
      "6 2023-01-07   Saturday\n",
      "7 2023-01-08     Sunday\n",
      "8 2023-01-09     Monday\n",
      "9 2023-01-10    Tuesday\n"
     ]
    }
   ],
   "source": [
    "df = pd.DataFrame({\n",
    "    'Date': pd.date_range(start='2023-01-01', periods=10)\n",
    "})\n",
    "\n",
    "def add_weekday_column(df):\n",
    "    if 'Date' in df.columns:\n",
    "        df['Weekday']=df['Date'].dt.day_name()\n",
    "        return df\n",
    "    else:   \n",
    "        return \"Column 'Date' not found in DataFrame.\"\n",
    "add_weekday_column(df)\n",
    "print(df[['Date', 'Weekday']])"
   ]
  },
  {
   "cell_type": "code",
   "execution_count": 29,
   "id": "9f2a11f5",
   "metadata": {},
   "outputs": [
    {
     "name": "stdout",
     "output_type": "stream",
     "text": [
      "         Date\n",
      "0  2023-01-01\n",
      "1  2023-01-02\n",
      "2  2023-01-03\n",
      "3  2023-01-04\n",
      "4  2023-01-05\n",
      "5  2023-01-06\n",
      "6  2023-01-07\n",
      "7  2023-01-08\n",
      "8  2023-01-09\n",
      "9  2023-01-10\n",
      "10 2023-01-11\n",
      "11 2023-01-12\n",
      "12 2023-01-13\n",
      "13 2023-01-14\n",
      "14 2023-01-15\n",
      "15 2023-01-16\n",
      "16 2023-01-17\n",
      "17 2023-01-18\n",
      "18 2023-01-19\n",
      "19 2023-01-20\n",
      "20 2023-01-21\n",
      "21 2023-01-22\n",
      "22 2023-01-23\n",
      "23 2023-01-24\n",
      "24 2023-01-25\n",
      "25 2023-01-26\n",
      "26 2023-01-27\n",
      "27 2023-01-28\n",
      "28 2023-01-29\n",
      "29 2023-01-30\n",
      "30 2023-01-31\n"
     ]
    }
   ],
   "source": [
    "# Q12. Given a Pandas DataFrame df with a column 'Date' that contains timestamps, write a Python\n",
    "# function to select all rows where the date is between '2023-01-01' and '2023-01-31'.\n",
    "\n",
    "df = pd.DataFrame({\n",
    "    'Date': pd.date_range(start='2023-01-01', periods=40)\n",
    "})\n",
    "\n",
    "def select_date_range(df, start_date, end_date):\n",
    "    if 'Date' in df.columns:\n",
    "        mask = (df['Date'] >= start_date) & (df['Date'] <= end_date)\n",
    "        return df[mask]\n",
    "    else:\n",
    "        return \"Column 'Date' not found in DataFrame.\"  \n",
    "\n",
    "selected_dates = select_date_range(df, '2023-01-01', '2023-01-31')\n",
    "print(selected_dates)\n"
   ]
  },
  {
   "cell_type": "code",
   "execution_count": null,
   "id": "9ffda20e",
   "metadata": {},
   "outputs": [],
   "source": [
    "# Q13. To use the basic functions of pandas, what is the first and foremost necessary library that needs to\n",
    "# be imported?\n",
    "\n",
    "# The first and foremost necessary library that needs to be imported to use the basic functions of \n",
    "# pandas is `pandas` itself.\n",
    "\n"
   ]
  }
 ],
 "metadata": {
  "kernelspec": {
   "display_name": "base",
   "language": "python",
   "name": "python3"
  },
  "language_info": {
   "codemirror_mode": {
    "name": "ipython",
    "version": 3
   },
   "file_extension": ".py",
   "mimetype": "text/x-python",
   "name": "python",
   "nbconvert_exporter": "python",
   "pygments_lexer": "ipython3",
   "version": "3.10.14"
  }
 },
 "nbformat": 4,
 "nbformat_minor": 5
}
