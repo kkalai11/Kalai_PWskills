{
 "cells": [
  {
   "cell_type": "markdown",
   "id": "0f312086-5574-46cc-8c8b-ca92867160e2",
   "metadata": {},
   "source": [
    "#Q1. What is Flask Framework? What are the advantages of Flask Framework?\n",
    "Flask is a lightweight web framework for Python, designed for building web applications quickly and with minimal overhead.\n",
    "It's classified as a microframework because it doesn't impose specific tools or libraries on developers, allowing for flexibility in choosing components.\n",
    "Advantages of Flask Framework:\n",
    "Simplicity: Easy to learn and use, making it perfect for beginners.\n",
    "Flexibility: Gives developers the freedom to implement components as they wish, allowing for customization.\n",
    "Lightweight: Has a small footprint and is less resource-intensive.\n",
    "Extensible: Can be easily extended using numerous plugins and libraries.\n",
    "Built-in Development Server: Includes a built-in server for testing and debugging purposes.\n",
    "RESTful Request Dispatching: Supports RESTful request handling, making it ideal for API development.\n",
    "Strong Community Support: Benefits from a large community and extensive documentation, which assist in troubleshooting and development"
   ]
  },
  {
   "cell_type": "code",
   "execution_count": 8,
   "id": "77a2e0d4-1098-47de-932d-6e83bccacec0",
   "metadata": {},
   "outputs": [
    {
     "name": "stdout",
     "output_type": "stream",
     "text": [
      " * Serving Flask app '__main__'\n",
      " * Debug mode: off\n"
     ]
    },
    {
     "name": "stderr",
     "output_type": "stream",
     "text": [
      "WARNING: This is a development server. Do not use it in a production deployment. Use a production WSGI server instead.\n",
      " * Running on all addresses (0.0.0.0)\n",
      " * Running on http://127.0.0.1:5000\n",
      " * Running on http://192.168.1.38:5000\n",
      "Press CTRL+C to quit\n",
      "192.168.1.38 - - [15/Jan/2025 22:33:57] \"GET / HTTP/1.1\" 200 -\n",
      "192.168.1.38 - - [15/Jan/2025 22:34:48] \"GET / HTTP/1.1\" 200 -\n"
     ]
    }
   ],
   "source": [
    "import flask\n",
    "from flask import Flask\n",
    "app= Flask(__name__)\n",
    "\n",
    "@app.route('/')\n",
    "def hello_world():\n",
    "    return \"Hello, World!\"\n",
    "if __name__ == '__main__':\n",
    "    app.run(host='0.0.0.0')"
   ]
  },
  {
   "attachments": {
    "f832e85b-bc93-42bd-ae18-076494ca3aa1.png": {
     "image/png": "[encoded data removed]"
    }
   },
   "cell_type": "markdown",
   "id": "f7bee14d-47f6-48a1-8bcd-3029275d97b5",
   "metadata": {},
   "source": [
    "![image.png](attachment:f832e85b-bc93-42bd-ae18-076494ca3aa1.png)"
   ]
  },
  {
   "cell_type": "code",
   "execution_count": null,
   "id": "d7201f8e-14eb-42e9-a6f8-9e9f4a88db6b",
   "metadata": {},
   "outputs": [],
   "source": [
    "#Q3. What is App routing in Flask? Why do we use app routes?\n",
    "#Ans: App routing is a way of defining the routes in the application. \n",
    "# It is used to map the URL to the function that will be executed when the URL is accessed. \n",
    "# We use app routes to define the URL that will be used to access the function. \n",
    "# This makes it easy to organize the code and make it more readable. It also makes it easy to change the URL of the function without changing the code.\n"
   ]
  },
  {
   "cell_type": "code",
   "execution_count": null,
   "id": "18265598-caaf-489c-8db3-cb24c2aa4b6f",
   "metadata": {},
   "outputs": [],
   "source": [
    "Q4. Create a “/welcome” route to display the welcome message “Welcome to ABC Corporation” and a “/”\n",
    "route to show the following details:\n",
    "Company Name: ABC Corporation\n",
    "Location: India\n",
    "Contact Detail: 999-999-9999"
   ]
  },
  {
   "cell_type": "code",
   "execution_count": 1,
   "id": "f6ffc183-4e4c-4ef1-8b42-089e622faaa9",
   "metadata": {},
   "outputs": [
    {
     "name": "stdout",
     "output_type": "stream",
     "text": [
      " * Serving Flask app '__main__'\n",
      " * Debug mode: off\n"
     ]
    },
    {
     "name": "stderr",
     "output_type": "stream",
     "text": [
      "WARNING: This is a development server. Do not use it in a production deployment. Use a production WSGI server instead.\n",
      " * Running on all addresses (0.0.0.0)\n",
      " * Running on http://127.0.0.1:5000\n",
      " * Running on http://192.168.1.38:5000\n",
      "Press CTRL+C to quit\n"
     ]
    },
    {
     "ename": "AssertionError",
     "evalue": "View function mapping is overwriting an existing endpoint function: hello_world",
     "output_type": "error",
     "traceback": [
      "\u001b[1;31m---------------------------------------------------------------------------\u001b[0m",
      "\u001b[1;31mAssertionError\u001b[0m                            Traceback (most recent call last)",
      "Cell \u001b[1;32mIn[1], line 11\u001b[0m\n\u001b[0;32m      8\u001b[0m \u001b[38;5;28;01mif\u001b[39;00m \u001b[38;5;18m__name__\u001b[39m \u001b[38;5;241m==\u001b[39m \u001b[38;5;124m'\u001b[39m\u001b[38;5;124m__main__\u001b[39m\u001b[38;5;124m'\u001b[39m:\n\u001b[0;32m      9\u001b[0m     app\u001b[38;5;241m.\u001b[39mrun(host\u001b[38;5;241m=\u001b[39m\u001b[38;5;124m'\u001b[39m\u001b[38;5;124m0.0.0.0\u001b[39m\u001b[38;5;124m'\u001b[39m)\n\u001b[1;32m---> 11\u001b[0m \u001b[38;5;129m@app\u001b[39m\u001b[38;5;241m.\u001b[39mroute(\u001b[38;5;124m'\u001b[39m\u001b[38;5;124m/\u001b[39m\u001b[38;5;124m'\u001b[39m)\n\u001b[0;32m     12\u001b[0m \u001b[38;5;28;01mdef\u001b[39;00m \u001b[38;5;21mhello_world\u001b[39m():\n\u001b[0;32m     13\u001b[0m     \u001b[38;5;28;01mreturn\u001b[39;00m \u001b[38;5;124m\"\u001b[39m\u001b[38;5;124mCompany Name : ABC corporation Location : India  Contact Detail : 999-999-9999\u001b[39m\u001b[38;5;124m\"\u001b[39m\n\u001b[0;32m     14\u001b[0m \u001b[38;5;28;01mif\u001b[39;00m \u001b[38;5;18m__name__\u001b[39m \u001b[38;5;241m==\u001b[39m \u001b[38;5;124m'\u001b[39m\u001b[38;5;124m__main__\u001b[39m\u001b[38;5;124m'\u001b[39m:\n",
      "File \u001b[1;32m~\\anaconda3\\Lib\\site-packages\\flask\\sansio\\scaffold.py:362\u001b[0m, in \u001b[0;36mScaffold.route.<locals>.decorator\u001b[1;34m(f)\u001b[0m\n\u001b[0;32m    360\u001b[0m \u001b[38;5;28;01mdef\u001b[39;00m \u001b[38;5;21mdecorator\u001b[39m(f: T_route) \u001b[38;5;241m-\u001b[39m\u001b[38;5;241m>\u001b[39m T_route:\n\u001b[0;32m    361\u001b[0m     endpoint \u001b[38;5;241m=\u001b[39m options\u001b[38;5;241m.\u001b[39mpop(\u001b[38;5;124m\"\u001b[39m\u001b[38;5;124mendpoint\u001b[39m\u001b[38;5;124m\"\u001b[39m, \u001b[38;5;28;01mNone\u001b[39;00m)\n\u001b[1;32m--> 362\u001b[0m     \u001b[38;5;28mself\u001b[39m\u001b[38;5;241m.\u001b[39madd_url_rule(rule, endpoint, f, \u001b[38;5;241m*\u001b[39m\u001b[38;5;241m*\u001b[39moptions)\n\u001b[0;32m    363\u001b[0m     \u001b[38;5;28;01mreturn\u001b[39;00m f\n",
      "File \u001b[1;32m~\\anaconda3\\Lib\\site-packages\\flask\\sansio\\scaffold.py:47\u001b[0m, in \u001b[0;36msetupmethod.<locals>.wrapper_func\u001b[1;34m(self, *args, **kwargs)\u001b[0m\n\u001b[0;32m     45\u001b[0m \u001b[38;5;28;01mdef\u001b[39;00m \u001b[38;5;21mwrapper_func\u001b[39m(\u001b[38;5;28mself\u001b[39m: Scaffold, \u001b[38;5;241m*\u001b[39margs: t\u001b[38;5;241m.\u001b[39mAny, \u001b[38;5;241m*\u001b[39m\u001b[38;5;241m*\u001b[39mkwargs: t\u001b[38;5;241m.\u001b[39mAny) \u001b[38;5;241m-\u001b[39m\u001b[38;5;241m>\u001b[39m t\u001b[38;5;241m.\u001b[39mAny:\n\u001b[0;32m     46\u001b[0m     \u001b[38;5;28mself\u001b[39m\u001b[38;5;241m.\u001b[39m_check_setup_finished(f_name)\n\u001b[1;32m---> 47\u001b[0m     \u001b[38;5;28;01mreturn\u001b[39;00m f(\u001b[38;5;28mself\u001b[39m, \u001b[38;5;241m*\u001b[39margs, \u001b[38;5;241m*\u001b[39m\u001b[38;5;241m*\u001b[39mkwargs)\n",
      "File \u001b[1;32m~\\anaconda3\\Lib\\site-packages\\flask\\sansio\\app.py:657\u001b[0m, in \u001b[0;36mApp.add_url_rule\u001b[1;34m(self, rule, endpoint, view_func, provide_automatic_options, **options)\u001b[0m\n\u001b[0;32m    655\u001b[0m old_func \u001b[38;5;241m=\u001b[39m \u001b[38;5;28mself\u001b[39m\u001b[38;5;241m.\u001b[39mview_functions\u001b[38;5;241m.\u001b[39mget(endpoint)\n\u001b[0;32m    656\u001b[0m \u001b[38;5;28;01mif\u001b[39;00m old_func \u001b[38;5;129;01mis\u001b[39;00m \u001b[38;5;129;01mnot\u001b[39;00m \u001b[38;5;28;01mNone\u001b[39;00m \u001b[38;5;129;01mand\u001b[39;00m old_func \u001b[38;5;241m!=\u001b[39m view_func:\n\u001b[1;32m--> 657\u001b[0m     \u001b[38;5;28;01mraise\u001b[39;00m \u001b[38;5;167;01mAssertionError\u001b[39;00m(\n\u001b[0;32m    658\u001b[0m         \u001b[38;5;124m\"\u001b[39m\u001b[38;5;124mView function mapping is overwriting an existing\u001b[39m\u001b[38;5;124m\"\u001b[39m\n\u001b[0;32m    659\u001b[0m         \u001b[38;5;124mf\u001b[39m\u001b[38;5;124m\"\u001b[39m\u001b[38;5;124m endpoint function: \u001b[39m\u001b[38;5;132;01m{\u001b[39;00mendpoint\u001b[38;5;132;01m}\u001b[39;00m\u001b[38;5;124m\"\u001b[39m\n\u001b[0;32m    660\u001b[0m     )\n\u001b[0;32m    661\u001b[0m \u001b[38;5;28mself\u001b[39m\u001b[38;5;241m.\u001b[39mview_functions[endpoint] \u001b[38;5;241m=\u001b[39m view_func\n",
      "\u001b[1;31mAssertionError\u001b[0m: View function mapping is overwriting an existing endpoint function: hello_world"
     ]
    }
   ],
   "source": [
    "import flask\n",
    "from flask import Flask\n",
    "app= Flask(__name__)\n",
    "\n",
    "@app.route('/welcome')\n",
    "def hello_world():\n",
    "    return \"Welcome to ABC Corporation\"\n",
    "if __name__ == '__main__':\n",
    "    app.run(host='0.0.0.0')\n",
    "\n",
    "@app.route('/')\n",
    "def hello_world():\n",
    "    return \"Company Name : ABC corporation Location : India  Contact Detail : 999-999-9999\"\n",
    "if __name__ == '__main__':\n",
    "    app.run(host='0.0.0.0')"
   ]
  },
  {
   "cell_type": "code",
   "execution_count": 1,
   "id": "735c9811-51eb-4381-b7b6-66f2fa20d499",
   "metadata": {},
   "outputs": [
    {
     "name": "stdout",
     "output_type": "stream",
     "text": [
      " * Serving Flask app '__main__'\n",
      " * Debug mode: off\n"
     ]
    },
    {
     "name": "stderr",
     "output_type": "stream",
     "text": [
      "WARNING: This is a development server. Do not use it in a production deployment. Use a production WSGI server instead.\n",
      " * Running on all addresses (0.0.0.0)\n",
      " * Running on http://127.0.0.1:5000\n",
      " * Running on http://192.168.1.38:5000\n",
      "Press CTRL+C to quit\n",
      "192.168.1.38 - - [15/Jan/2025 22:38:00] \"GET / HTTP/1.1\" 200 -\n"
     ]
    }
   ],
   "source": [
    "import flask\n",
    "from flask import Flask\n",
    "app= Flask(__name__)\n",
    "\n",
    "@app.route('/')\n",
    "def hello_world():\n",
    "    return \"Company Name : ABC corporation Location : India  Contact Detail : 999-999-9999\"\n",
    "if __name__ == '__main__':\n",
    "    app.run(host='0.0.0.0')"
   ]
  },
  {
   "attachments": {
    "03633105-7572-4c0a-a1ea-681384eb567e.png": {
     "image/png": "[encoded data removed]"
    }
   },
   "cell_type": "markdown",
   "id": "a21a03b0-2289-4f95-9850-b26761a124b1",
   "metadata": {},
   "source": [
    "![image.png](attachment:03633105-7572-4c0a-a1ea-681384eb567e.png)"
   ]
  },
  {
   "cell_type": "code",
   "execution_count": 5,
   "id": "627c4e10-a1c3-4e5b-8a9d-accb0dfb2502",
   "metadata": {},
   "outputs": [
    {
     "name": "stdout",
     "output_type": "stream",
     "text": [
      "/\n",
      "/login\n",
      "/logout\n"
     ]
    }
   ],
   "source": [
    "#Q5. What function is used in Flask for URL Building? Write a Python code to demonstrate the working of the\n",
    "#url_for() function.\n",
    "#Ans: The url_for() function is used in Flask for URL Building. It generates a URL to the given endpoint with the method provided.\n",
    "# The url_for() function takes the name of the function as an argument and returns the URL for that function.\n",
    "#example :\n",
    "from flask import Flask, url_for\n",
    "app = Flask(__name__)\n",
    "\n",
    "@app.route('/')\n",
    "def check():\n",
    "    return 'check'\n",
    "\n",
    "@app.route('/login')\n",
    "def login():\n",
    "    return 'login'\n",
    "@app.route('/logout')\n",
    "def logout():\n",
    "    return 'logout'\n",
    "with app.test_request_context():\n",
    "    print(url_for('check'))\n",
    "    print(url_for('login'))\n",
    "    print(url_for('logout'))\n"
   ]
  },
  {
   "cell_type": "code",
   "execution_count": null,
   "id": "718c2fce-491a-4fbe-8ca7-3ed8db9c087f",
   "metadata": {},
   "outputs": [],
   "source": []
  }
 ],
 "metadata": {
  "kernelspec": {
   "display_name": "base",
   "language": "python",
   "name": "python3"
  },
  "language_info": {
   "codemirror_mode": {
    "name": "ipython",
    "version": 3
   },
   "file_extension": ".py",
   "mimetype": "text/x-python",
   "name": "python",
   "nbconvert_exporter": "python",
   "pygments_lexer": "ipython3",
   "version": "3.10.14"
  }
 },
 "nbformat": 4,
 "nbformat_minor": 5
}
