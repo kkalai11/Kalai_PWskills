{
 "cells": [
  {
   "cell_type": "code",
   "execution_count": null,
   "metadata": {},
   "outputs": [],
   "source": [
    "#Q1. Explain GET and POST methods.\n",
    "#GET and POST are two different types of HTTP requests.\n",
    "#GET requests data from a specified resource, and POST submits data to be processed to a specified resource.\n",
    "#GET requests can be cached and remain in the browser history, and can be bookmarked. GET requests should never be used when dealing with sensitive data. \n",
    "# POST requests do not remain in the browser history, and cannot be bookmarked. POST requests are never cached, and do not remain in the browser history.\n",
    "# POST requests are more secure than GET requests.\n"
   ]
  },
  {
   "cell_type": "code",
   "execution_count": null,
   "metadata": {},
   "outputs": [],
   "source": [
    "#Q2. Why is request used in Flask?\n",
    "# Request is used in Flask to get the data that the client sends to the server.\n",
    "\n"
   ]
  },
  {
   "cell_type": "code",
   "execution_count": null,
   "metadata": {},
   "outputs": [],
   "source": [
    "#Q3. Why is redirect() used in Flask?\n",
    "# redirect() is used in Flask to redirect the client to a different URL.\n"
   ]
  },
  {
   "cell_type": "code",
   "execution_count": null,
   "metadata": {},
   "outputs": [],
   "source": [
    "#Q4. What are templates in Flask? Why is the render_template() function used?\n",
    "# Templates in Flask are used to separate the presentation layer from the business logic.\n",
    "# The render_template() function is used to render the templates in Flask.\n"
   ]
  },
  {
   "cell_type": "code",
   "execution_count": 4,
   "metadata": {},
   "outputs": [],
   "source": [
    "# #Q5. Create a simple API. Use Postman to test it. Attach the screenshot of the output in the Jupyter Notebook.\n",
    "# #API code\n",
    "from flask  import Flask, request, jsonify\n",
    "app = Flask(__name__)\n",
    "@app.route('/api', methods=['GET', 'POST'])\n",
    "def api():\n",
    "    if request.method == 'GET':\n",
    "        return jsonify({'message': 'This is a GET request'})\n",
    "    if request.method == 'POST':\n",
    "        data = request.get_json()\n",
    "        return jsonify({'message': 'This is a POST request', 'data': data})\n",
    "if __name__ == '__main__':\n",
    "    app.run(debug=True)\n",
    "#Output screenshot\n",
    "\n",
    "\n"
   ]
  }
 ],
 "metadata": {
  "kernelspec": {
   "display_name": "Python 3",
   "language": "python",
   "name": "python3"
  },
  "language_info": {
   "codemirror_mode": {
    "name": "ipython",
    "version": 3
   },
   "file_extension": ".py",
   "mimetype": "text/x-python",
   "name": "python",
   "nbconvert_exporter": "python",
   "pygments_lexer": "ipython3",
   "version": "3.10.0"
  }
 },
 "nbformat": 4,
 "nbformat_minor": 2
}
