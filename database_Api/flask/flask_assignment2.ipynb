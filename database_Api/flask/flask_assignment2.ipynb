#Q1. Explain GET and POST methods.
