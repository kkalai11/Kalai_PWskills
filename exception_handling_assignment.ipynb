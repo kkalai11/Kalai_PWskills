{
 "cells": [
  {
   "cell_type": "markdown",
   "metadata": {},
   "source": [
    "Q1. What is an Exception in python? Write the difference between Exceptions and Syntax errors.\n",
    "\n",
    "Exceptions are the events occur during run time of python code due logical mistake like division by zero, input file is missing , function is not defined etc. it can be handled by using try, except , else & finally blocks . mainly except blocks handles all the exceptions. This will help to run the code smoothly. however syntax error is the mistake in the code itslef like semi colon or bracket missing . this occurs even before code start running . This need to be fixed before running the code .\n",
    "\n",
    "example :\n",
    "\n",
    "Exception:\n",
    "\n",
    "a= 10\n",
    "b= a/0 -- Zero devision error . this will occur during run time . need to be handled with exceptions \n",
    "\n",
    "Syntax Error:\n",
    "if a<0                        -- semi colon missing . need to be fixed before running the code . \n",
    "    print (\" a is negative) \n"
   ]
  },
  {
   "cell_type": "code",
   "execution_count": null,
   "metadata": {},
   "outputs": [],
   "source": [
    "#Q2. What happens when an exception is not handled? Explain with an example.\n",
    "\n",
    "if exceptions are handled then code will not run after the error. it will stop completly from that line "
   ]
  },
  {
   "cell_type": "code",
   "execution_count": 8,
   "metadata": {},
   "outputs": [
    {
     "name": "stdout",
     "output_type": "stream",
     "text": [
      "file not exist\n",
      " data contains data science course content\n"
     ]
    }
   ],
   "source": [
    "# Example :\n",
    "#  Open a file\n",
    "# with open (\"example.txt\",'r') as f:\n",
    "#     data = f.read()\n",
    "  \n",
    "# print(\" data contains data science course content\")\n",
    "\n",
    "# Even though print statment is not related to the error. but it will not run becasue of the error in the code.\n",
    "# however if we handle the error code will exceute the print statement after the error.\n",
    "\n",
    "# Example :\n",
    "try:\n",
    "    with open(\"example.txt\",\"r\") as f:\n",
    "        data=f.read()\n",
    "except FileNotFoundError as e:\n",
    "    print(\"file not exist\")\n",
    "print(\" data contains data science course content\")\n",
    "# In this case even though there is an error in the code it will run the print statement after the error.\n",
    "# error handling is important to run the code smoothly \n"
   ]
  },
  {
   "cell_type": "markdown",
   "metadata": {},
   "source": [
    "Q3. Which Python statements are used to catch and handle exceptions? Explain with an example.\n",
    "\n",
    "there are 4 blocks in exception handling. those are try, except , else & finally. however 2 main blocks helps to catch & handle the exceptions try & except. \n",
    "\n",
    "whatever we want to execute will be placed under try block & potential/possible errors will be handled under exception block .\n"
   ]
  },
  {
   "cell_type": "code",
   "execution_count": 10,
   "metadata": {},
   "outputs": [
    {
     "name": "stdout",
     "output_type": "stream",
     "text": [
      " variables are not declared\n"
     ]
    }
   ],
   "source": [
    "# Example :\n",
    "\n",
    "try :\n",
    "\n",
    " x = a+b  #-- have called out the variables before declaring . so this will creat Name error. this error can be handled in the following block\n",
    "\n",
    "except NameError as e:\n",
    "    print ( \" variables are not declared\")  # code has excuted without stopping the code. exception is handled"
   ]
  },
  {
   "cell_type": "markdown",
   "metadata": {},
   "source": [
    "Q4. Explain with an example:#\n",
    " try and else#\n",
    " finally\n",
    " raise\n",
    "\n",
    " try block where the code is tested . if there is any error/exceptions occurs then it excepting block will run . if there is no exception then code will else block will run . it is optional and will et triggered only if there after try & there is no exception . \n",
    "\n",
    " finally block will run after try block irrespetive of exception or not . \n",
    "\n",
    " raise is the key word to handle the errors in custom made exception handling funtions.\n",
    " "
   ]
  },
  {
   "cell_type": "code",
   "execution_count": 11,
   "metadata": {},
   "outputs": [
    {
     "name": "stdout",
     "output_type": "stream",
     "text": [
      " the values are divided successfully\n",
      " this will anyway excute\n",
      "only positive integers are allowed\n"
     ]
    }
   ],
   "source": [
    "# Example:\n",
    "\n",
    "a= 10\n",
    "b=2\n",
    "\n",
    "try :\n",
    "    x= a/b\n",
    "except ZeroDivisionError as e:\n",
    "    print(\"division by zero is not possible\")\n",
    "else:\n",
    "    print(\" the values are divided successfully\")  # this print will excute only if there is no exception in the code\n",
    "finally:\n",
    "    print(\" this will anyway excute\")  # this will excute no matter what. even if there is an exception in the code.\n",
    "\n",
    "def age (x):\n",
    "    if x<0:\n",
    "        raise ValueError(\"only positive integers are allowed\")  # this will raise an error if the value is less than 0\n",
    "    return x\n",
    "\n",
    "try:\n",
    "    age(-2)\n",
    "except ValueError as e:\n",
    "    print(e)\n"
   ]
  },
  {
   "cell_type": "markdown",
   "metadata": {},
   "source": [
    "Q5. What are Custom Exceptions in python? Why do we need Custom Exceptions? Explain with an example.\n",
    "\n",
    "custom exceptions are the exception handling class/functions created based on the context of the business problem or user preference .\n",
    "\n",
    "for example few varibales like a= 300 is valid in general but however a= 300 is not make any sense if a is defined as age varibale . during there type of specifications user can create custom exceptions to avoid potentially incorrect data as input . \n",
    "\n",
    "custo  handling helps to handle the errors more preciously & provides better clarity\n",
    "it will help for the documentation & debug quickly"
   ]
  },
  {
   "cell_type": "code",
   "execution_count": 14,
   "metadata": {},
   "outputs": [],
   "source": [
    "class Agevalidation(Exception):\n",
    "    def __init__(self,age,message=\"age should be greater than 18\"):\n",
    "        self.age=age\n",
    "        self.message=message"
   ]
  },
  {
   "cell_type": "code",
   "execution_count": 18,
   "metadata": {},
   "outputs": [
    {
     "name": "stdout",
     "output_type": "stream",
     "text": [
      "Error: (15, 'Invalid age 15. You must be at least 18 years old.')\n"
     ]
    }
   ],
   "source": [
    "# example :\n",
    "def validate_age(age):\n",
    "    if age < 18:\n",
    "        raise Agevalidation(age, f\"Invalid age {age}. You must be at least 18 years old.\")\n",
    "    else:\n",
    "        print(f\"Age {age} is valid.\")\n",
    "\n",
    "try:\n",
    "    validate_age(15)\n",
    "except Agevalidation as e:\n",
    "    print(f\"Error: {e}\")"
   ]
  },
  {
   "cell_type": "markdown",
   "metadata": {},
   "source": [
    "Q6. Create a custom exception class. Use this class to handle an exception. have created custome exception class for Annual income "
   ]
  },
  {
   "cell_type": "code",
   "execution_count": 1,
   "metadata": {},
   "outputs": [
    {
     "name": "stdout",
     "output_type": "stream",
     "text": [
      "error(2000, 'invalid income2000,minimum limit is 10000')\n"
     ]
    }
   ],
   "source": [
    "class Annualincomevalidation(Exception):\n",
    "    def __init__(self,income, message = \"Annual income should be greater than 10000\"):\n",
    "        self.income=income\n",
    "        self.message=message \n",
    "\n",
    "\n",
    "def validate_income(income):\n",
    "    if income<10000:\n",
    "        raise Annualincomevalidation(income,f\"invalid income{income},minimum limit is 10000\")\n",
    "    else:\n",
    "        print(f\"income{income} is valid\")\n",
    "\n",
    "try:\n",
    "    Annual_income= int(input(\"enter your annual income\"))\n",
    "    validate_income(Annual_income)\n",
    "except Annualincomevalidation as e:\n",
    "    print(f\"error{e}\")\n"
   ]
  }
 ],
 "metadata": {
  "kernelspec": {
   "display_name": "base",
   "language": "python",
   "name": "python3"
  },
  "language_info": {
   "codemirror_mode": {
    "name": "ipython",
    "version": 3
   },
   "file_extension": ".py",
   "mimetype": "text/x-python",
   "name": "python",
   "nbconvert_exporter": "python",
   "pygments_lexer": "ipython3",
   "version": "3.10.14"
  }
 },
 "nbformat": 4,
 "nbformat_minor": 2
}
