{
 "cells": [
  {
   "cell_type": "markdown",
   "id": "88a52c6e",
   "metadata": {},
   "source": [
    "Q1. Create a class with an init method having instance variables as name_of_vehicle, max_speed,average_of_vehicle"
   ]
  },
  {
   "cell_type": "code",
   "execution_count": 1,
   "id": "2f786044",
   "metadata": {},
   "outputs": [],
   "source": [
    "class vehicle:\n",
    "    def __init__(self,name_of_vehicle,max_speed,average_of_vehicle):\n",
    "        self.name_of_vehicle=name_of_vehicle\n",
    "        self.max_speed=max_speed\n",
    "        self.average_of_vehicle=average_of_vehicle\n",
    "        "
   ]
  },
  {
   "cell_type": "code",
   "execution_count": 3,
   "id": "54446238",
   "metadata": {},
   "outputs": [],
   "source": [
    "V1=vehicle(\"Maruthi\",100,4)"
   ]
  },
  {
   "cell_type": "code",
   "execution_count": 4,
   "id": "3288378b",
   "metadata": {},
   "outputs": [
    {
     "data": {
      "text/plain": [
       "4"
      ]
     },
     "execution_count": 4,
     "metadata": {},
     "output_type": "execute_result"
    }
   ],
   "source": [
    "V1.average_of_vehicle"
   ]
  },
  {
   "cell_type": "code",
   "execution_count": 5,
   "id": "f17cfab8",
   "metadata": {},
   "outputs": [
    {
     "data": {
      "text/plain": [
       "'Maruthi'"
      ]
     },
     "execution_count": 5,
     "metadata": {},
     "output_type": "execute_result"
    }
   ],
   "source": [
    "V1.name_of_vehicle"
   ]
  },
  {
   "cell_type": "code",
   "execution_count": 6,
   "id": "5332ef9e",
   "metadata": {},
   "outputs": [
    {
     "data": {
      "text/plain": [
       "100"
      ]
     },
     "execution_count": 6,
     "metadata": {},
     "output_type": "execute_result"
    }
   ],
   "source": [
    "V1.max_speed"
   ]
  },
  {
   "cell_type": "markdown",
   "id": "44c41913",
   "metadata": {},
   "source": [
    "Q2.Create a child class created in Que 1, which will inherit the vehicle class.Created a method named seating _capacity which takes capacity as an argument and returns the name of the vehicle and its seating capacity ."
   ]
  },
  {
   "cell_type": "code",
   "execution_count": 35,
   "id": "f7c96459",
   "metadata": {},
   "outputs": [],
   "source": [
    "class car(vehicle):\n",
    "    \n",
    "    def seating_capacity(self,capacity):\n",
    "        return f\"{self.name_of_vehicle} has {capacity} passengers\""
   ]
  },
  {
   "cell_type": "code",
   "execution_count": 37,
   "id": "882f114e",
   "metadata": {},
   "outputs": [
    {
     "data": {
      "text/plain": [
       "'abc has 5 passengers'"
      ]
     },
     "execution_count": 37,
     "metadata": {},
     "output_type": "execute_result"
    }
   ],
   "source": [
    "car(\"abc\",5,10).seating_capacity(5)"
   ]
  },
  {
   "cell_type": "markdown",
   "id": "c3bd6e0d",
   "metadata": {},
   "source": [
    "Q3. what is multiple inheritance?write a python code to demonstrate multiple inheritance "
   ]
  },
  {
   "cell_type": "markdown",
   "id": "7a8c11fb",
   "metadata": {},
   "source": [
    "multiple inheritance means one class inherits the property of multiple classes like car(child) class inherited the features of Vehicle(parent) class. similarly if we derive class from more than 1 base class, then it will inherit features from both classes"
   ]
  },
  {
   "cell_type": "code",
   "execution_count": 52,
   "id": "35e3f182",
   "metadata": {},
   "outputs": [],
   "source": [
    "class speed(car):\n",
    "    \n",
    "    def car_speed(self,speed):\n",
    "        self.speed=speed\n",
    "        return self.speed"
   ]
  },
  {
   "cell_type": "code",
   "execution_count": 55,
   "id": "32bbb2aa",
   "metadata": {},
   "outputs": [],
   "source": [
    "child2 = speed(\"Hundai\",150,100)"
   ]
  },
  {
   "cell_type": "code",
   "execution_count": 56,
   "id": "254f4fbf",
   "metadata": {},
   "outputs": [
    {
     "data": {
      "text/plain": [
       "60"
      ]
     },
     "execution_count": 56,
     "metadata": {},
     "output_type": "execute_result"
    }
   ],
   "source": [
    "child2.car_speed(60)"
   ]
  },
  {
   "cell_type": "code",
   "execution_count": 58,
   "id": "79c684ea",
   "metadata": {},
   "outputs": [
    {
     "data": {
      "text/plain": [
       "'Hundai'"
      ]
     },
     "execution_count": 58,
     "metadata": {},
     "output_type": "execute_result"
    }
   ],
   "source": [
    "child2.name_of_vehicle"
   ]
  },
  {
   "cell_type": "code",
   "execution_count": 59,
   "id": "3bec8080",
   "metadata": {},
   "outputs": [
    {
     "data": {
      "text/plain": [
       "150"
      ]
     },
     "execution_count": 59,
     "metadata": {},
     "output_type": "execute_result"
    }
   ],
   "source": [
    "child2.max_speed"
   ]
  },
  {
   "cell_type": "code",
   "execution_count": 61,
   "id": "f4ff6840",
   "metadata": {},
   "outputs": [
    {
     "data": {
      "text/plain": [
       "'Hundai has 5 passengers'"
      ]
     },
     "execution_count": 61,
     "metadata": {},
     "output_type": "execute_result"
    }
   ],
   "source": [
    "child2.seating_capacity(5)"
   ]
  },
  {
   "cell_type": "code",
   "execution_count": null,
   "id": "b6c35700",
   "metadata": {},
   "outputs": [],
   "source": [
    "\"Child 2 has inherited all the attributes from vehicle & Car.\n",
    "because it has derived from both classes. these 2 classes can be completely different one as well \""
   ]
  },
  {
   "cell_type": "markdown",
   "id": "6708aa8c",
   "metadata": {},
   "source": [
    "Q4. what is getter & setter in python? create a class and create getter & setter method in this class"
   ]
  },
  {
   "cell_type": "code",
   "execution_count": null,
   "id": "288194fb",
   "metadata": {},
   "outputs": [],
   "source": [
    "\"\"\" Getter & Setter methods are used to get the value of private/restricted attributes of the class & \n",
    "Set the value of Private/restricted attributes of the class respectively \"\"\""
   ]
  },
  {
   "cell_type": "code",
   "execution_count": 62,
   "id": "73fa4a2d",
   "metadata": {},
   "outputs": [],
   "source": [
    "class bank_account:\n",
    "\n",
    "    def __init__(self, balance):\n",
    "        ## private varibale \n",
    "        self.__balance= balance\n",
    "\n",
    "    ## getter method \n",
    "    def get_balance(self):\n",
    "        return self.__balance\n",
    "\n",
    "    ## setter method \n",
    "    def set_balance(self, balance):\n",
    "        self.__balance = balance"
   ]
  },
  {
   "cell_type": "code",
   "execution_count": 64,
   "id": "6a334101",
   "metadata": {},
   "outputs": [],
   "source": [
    "ac=bank_account(1000)"
   ]
  },
  {
   "cell_type": "code",
   "execution_count": 65,
   "id": "7c5ff2cc",
   "metadata": {},
   "outputs": [
    {
     "data": {
      "text/plain": [
       "1000"
      ]
     },
     "execution_count": 65,
     "metadata": {},
     "output_type": "execute_result"
    }
   ],
   "source": [
    "ac.get_balance()"
   ]
  },
  {
   "cell_type": "code",
   "execution_count": 67,
   "id": "ade9a6a9",
   "metadata": {},
   "outputs": [],
   "source": [
    "ac.set_balance(1500)"
   ]
  },
  {
   "cell_type": "code",
   "execution_count": 68,
   "id": "7fdf8958",
   "metadata": {},
   "outputs": [
    {
     "data": {
      "text/plain": [
       "1500"
      ]
     },
     "execution_count": 68,
     "metadata": {},
     "output_type": "execute_result"
    }
   ],
   "source": [
    "ac.get_balance()"
   ]
  },
  {
   "cell_type": "code",
   "execution_count": null,
   "id": "18f3e456",
   "metadata": {},
   "outputs": [],
   "source": [
    "\"In this way getter & setter method helps to access private(__balance) attributs\""
   ]
  },
  {
   "cell_type": "markdown",
   "id": "2462c6dd",
   "metadata": {},
   "source": [
    "Q5. What is method overriding in python? write an example\n",
    "\n",
    "Method overriding is two method with same name & each performs different Tasks based on the class. overriding can be used only in the child class which is derived from its parent class. we cant override in the same class"
   ]
  },
  {
   "cell_type": "code",
   "execution_count": 69,
   "id": "0104d715",
   "metadata": {},
   "outputs": [
    {
     "name": "stdout",
     "output_type": "stream",
     "text": [
      "The method type_house here is overridden in the code\n"
     ]
    }
   ],
   "source": [
    "class houses:\n",
    "    def type_house(self):\n",
    "        print('Hello, I am the hut house')\n",
    "\n",
    "class Tree(houses):\n",
    "    def type_house(self):\n",
    "        print('Hello, I am the tree house')\n",
    "        \n",
    "print('The method type_house here is overridden in the code')"
   ]
  },
  {
   "cell_type": "code",
   "execution_count": 70,
   "id": "9bbbc8c9",
   "metadata": {},
   "outputs": [],
   "source": [
    "a=houses()"
   ]
  },
  {
   "cell_type": "code",
   "execution_count": 72,
   "id": "ed608566",
   "metadata": {},
   "outputs": [
    {
     "name": "stdout",
     "output_type": "stream",
     "text": [
      "Hello, I am the hut house\n"
     ]
    }
   ],
   "source": [
    "a.type_house()"
   ]
  },
  {
   "cell_type": "code",
   "execution_count": 74,
   "id": "369c7f8b",
   "metadata": {},
   "outputs": [
    {
     "name": "stdout",
     "output_type": "stream",
     "text": [
      "Hello, I am the tree house\n"
     ]
    }
   ],
   "source": [
    "b=Tree()\n",
    "b.type_house()"
   ]
  },
  {
   "cell_type": "code",
   "execution_count": null,
   "id": "80fe1efa",
   "metadata": {},
   "outputs": [],
   "source": []
  }
 ],
 "metadata": {
  "kernelspec": {
   "display_name": "Python 3 (ipykernel)",
   "language": "python",
   "name": "python3"
  },
  "language_info": {
   "codemirror_mode": {
    "name": "ipython",
    "version": 3
   },
   "file_extension": ".py",
   "mimetype": "text/x-python",
   "name": "python",
   "nbconvert_exporter": "python",
   "pygments_lexer": "ipython3",
   "version": "3.9.12"
  }
 },
 "nbformat": 4,
 "nbformat_minor": 5
}
