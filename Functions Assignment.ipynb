{
 "cells": [
  {
   "cell_type": "markdown",
   "id": "920ba9b7",
   "metadata": {},
   "source": [
    "Q1. Which keyword is used to create a function? Create a function to return a list of odd numbers in the\n",
    "range of 1 to 25.\n",
    "\n",
    "Keyword \"def\" is used to create user defined function in python. "
   ]
  },
  {
   "cell_type": "code",
   "execution_count": 1,
   "id": "6d5d12c2",
   "metadata": {},
   "outputs": [],
   "source": [
    "#\n",
    "\n",
    "# function to return a list of odd numbers in the range of 1 to 15 \n",
    "\n",
    "def odd():\n",
    "    l=[]\n",
    "    for i in range(1,26):\n",
    "        if i%2 != 0:\n",
    "            l.append(i)\n",
    "    return l\n",
    "            "
   ]
  },
  {
   "cell_type": "code",
   "execution_count": 2,
   "id": "5b1afed3",
   "metadata": {},
   "outputs": [
    {
     "data": {
      "text/plain": [
       "[1, 3, 5, 7, 9, 11, 13, 15, 17, 19, 21, 23, 25]"
      ]
     },
     "execution_count": 2,
     "metadata": {},
     "output_type": "execute_result"
    }
   ],
   "source": [
    "#result of odd function\n",
    "odd()"
   ]
  },
  {
   "cell_type": "markdown",
   "id": "771f9b59",
   "metadata": {},
   "source": [
    "Q2. Why *args and **kwargs is used in some functions? Create a function each for *args and **kwargs to\n",
    "demonstrate their use.\n",
    "\n",
    "Ans : *args is used in the user defined functions where # of input parameters is unknown or \n",
    "gives the users to give flexibility to use any number of arguments.\n",
    "similarly **kwargs is used to give multiple key value pair input paramenter"
   ]
  },
  {
   "cell_type": "code",
   "execution_count": 23,
   "id": "732e4bcd",
   "metadata": {},
   "outputs": [
    {
     "name": "stdout",
     "output_type": "stream",
     "text": [
      "[1, 32]\n"
     ]
    },
    {
     "data": {
      "text/plain": [
       "[100000, 45435424, 1350125107]"
      ]
     },
     "execution_count": 23,
     "metadata": {},
     "output_type": "execute_result"
    }
   ],
   "source": [
    "#example for *args :\n",
    "\n",
    "def add(*args):\n",
    "    l=[]\n",
    "    for i in args:\n",
    "        x= i**5\n",
    "        l.append(x)\n",
    "    return l\n",
    "\n",
    "\n",
    "#test 1:\n",
    "print(add(1,2) )\n",
    "\n",
    "## test 2 \n",
    "\n",
    "add(10,34,67)"
   ]
  },
  {
   "cell_type": "code",
   "execution_count": 84,
   "id": "d4ee41ea",
   "metadata": {},
   "outputs": [],
   "source": [
    "#example for *kwargs : This gives the list of values in the input key value pairs\n",
    "\n",
    "def org(**kwargs):\n",
    "\n",
    "    for i,j in kwargs.items():\n",
    "          return list(kwargs.values())\n",
    "    \n"
   ]
  },
  {
   "cell_type": "code",
   "execution_count": 85,
   "id": "29a2f6b9",
   "metadata": {},
   "outputs": [
    {
     "data": {
      "text/plain": [
       "[10, 10, 100, 45]"
      ]
     },
     "execution_count": 85,
     "metadata": {},
     "output_type": "execute_result"
    }
   ],
   "source": [
    "org(a=10,b=10, c=100,d=45)"
   ]
  },
  {
   "cell_type": "markdown",
   "id": "854f2e29",
   "metadata": {},
   "source": [
    "Q3. What is an iterator in python? Name the method used to initialise the iterator object and the method used for iteration. Use these methods to print the first five elements of the given list [2, 4, 6, 8, 10, 12, 14, 16,\n",
    "18, 20].\n",
    "\n",
    "Ans : iterator are the objects that helps to simplify the interation with list, tubles etc.. we can use for , while loops o iterate through the list, tubles etc. Map, reduce & filters are the few iterators that can help iterate thorugh lists & tuples and it is shorthand for for loops & another way to reduce the usgae of memeory.\n"
   ]
  },
  {
   "cell_type": "code",
   "execution_count": 52,
   "id": "49ba8c82",
   "metadata": {},
   "outputs": [],
   "source": [
    "# printing out only first five elements through iterator. #we can use the following methods to print first 5 elements \n",
    "def check(x):\n",
    "      for i in x[0:5]:\n",
    "        print(i)"
   ]
  },
  {
   "cell_type": "code",
   "execution_count": 53,
   "id": "8a6b81b5",
   "metadata": {},
   "outputs": [],
   "source": [
    "def first(x):\n",
    "    print(x[0:5])"
   ]
  },
  {
   "cell_type": "code",
   "execution_count": 54,
   "id": "bcc2b6ac",
   "metadata": {},
   "outputs": [],
   "source": [
    "l=[2,4,6,8,10,12,14,16,18,20]"
   ]
  },
  {
   "cell_type": "code",
   "execution_count": 55,
   "id": "3bd37f02",
   "metadata": {},
   "outputs": [
    {
     "name": "stdout",
     "output_type": "stream",
     "text": [
      "2\n",
      "4\n",
      "6\n",
      "8\n",
      "10\n"
     ]
    }
   ],
   "source": [
    "check(l)"
   ]
  },
  {
   "cell_type": "code",
   "execution_count": 56,
   "id": "6d87bb79",
   "metadata": {},
   "outputs": [
    {
     "name": "stdout",
     "output_type": "stream",
     "text": [
      "[2, 4, 6, 8, 10]\n"
     ]
    }
   ],
   "source": [
    "first(l)"
   ]
  },
  {
   "cell_type": "markdown",
   "id": "98afb7dc",
   "metadata": {},
   "source": [
    "Q4:What is a generator function in python? Why yield keyword is used? Give an example of a generator\n",
    "function.\n",
    "\n",
    "Generator functions are special functions that helps to create the interators without defining user defined functions .\n",
    "it will be come iterable when it is used in the for loop like range. yield key word is sued to produce the results in every interation without taking large memory.\n",
    "so that performance will be faster. \n",
    "A generator function is like a normal function, but instead of using the return statement to return a value, \n",
    "it uses the yield statement. The yield statement is used to produce a value, and \n",
    "the generator function can be resumed from where it left off the next time next() is called on the generator."
   ]
  },
  {
   "cell_type": "code",
   "execution_count": 48,
   "id": "710385ba",
   "metadata": {},
   "outputs": [
    {
     "name": "stdout",
     "output_type": "stream",
     "text": [
      "10\n",
      "35\n",
      "45\n",
      "80\n",
      "125\n"
     ]
    }
   ],
   "source": [
    "\n",
    "# example : printing  numbers divisable by 5\n",
    "def fibnocci():\n",
    "    a,b =10,35\n",
    "    while True:\n",
    "        yield a\n",
    "        a,b=b,a+b\n",
    "        \n",
    "x =fibnocci()\n",
    "for i in range(5):\n",
    "    print(next(x))"
   ]
  },
  {
   "cell_type": "markdown",
   "id": "a08a6e2f",
   "metadata": {},
   "source": [
    "Q5. Create a generator function for prime numbers less than 1000. Use the next() method to print the\n",
    "first 20 prime numbers."
   ]
  },
  {
   "cell_type": "code",
   "execution_count": null,
   "id": "054fd709",
   "metadata": {},
   "outputs": [],
   "source": [
    "# identifying prime numbers "
   ]
  },
  {
   "cell_type": "code",
   "execution_count": 42,
   "id": "527c70df",
   "metadata": {},
   "outputs": [],
   "source": [
    "def primes():\n",
    "    yield 2\n",
    "    prime_list =[2]\n",
    "    for i in range(3,1000):\n",
    "        is_prime = True\n",
    "        for prime in prime_list:\n",
    "            if i % prime == 0:\n",
    "                is_prime = False \n",
    "                break\n",
    "        if is_prime:\n",
    "            prime_list.append(i)\n",
    "            yield i\n",
    "            \n"
   ]
  },
  {
   "cell_type": "code",
   "execution_count": 43,
   "id": "8e4b04a6",
   "metadata": {},
   "outputs": [
    {
     "name": "stdout",
     "output_type": "stream",
     "text": [
      "2\n",
      "3\n",
      "5\n",
      "7\n",
      "11\n",
      "13\n",
      "17\n",
      "19\n",
      "23\n",
      "29\n",
      "31\n",
      "37\n",
      "41\n",
      "43\n",
      "47\n",
      "53\n",
      "59\n",
      "61\n",
      "67\n",
      "71\n"
     ]
    }
   ],
   "source": [
    "# the next() method to print the first 20 prime numbers.\n",
    "a = primes()\n",
    "for i in range(20):\n",
    "    print(next(a))\n",
    "\n",
    "    \n",
    "#a generator function for prime numbers less than 1000. Use the next() method to print the first 20 prime numbers."
   ]
  },
  {
   "cell_type": "code",
   "execution_count": null,
   "id": "38332542",
   "metadata": {},
   "outputs": [],
   "source": []
  }
 ],
 "metadata": {
  "kernelspec": {
   "display_name": "Python 3 (ipykernel)",
   "language": "python",
   "name": "python3"
  },
  "language_info": {
   "codemirror_mode": {
    "name": "ipython",
    "version": 3
   },
   "file_extension": ".py",
   "mimetype": "text/x-python",
   "name": "python",
   "nbconvert_exporter": "python",
   "pygments_lexer": "ipython3",
   "version": "3.9.12"
  }
 },
 "nbformat": 4,
 "nbformat_minor": 5
}
