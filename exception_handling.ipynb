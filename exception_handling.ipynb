{
 "cells": [
  {
   "cell_type": "code",
   "execution_count": 6,
   "metadata": {},
   "outputs": [],
   "source": [
    "#best practices of exception handling\n",
    "\n",
    "# use always specific exceptions instead of general eception like zero division error\n",
    "# In error handling , print always meaningful message to the user\n",
    "# always try to log in file to understand the error\n",
    "\n",
    "import logging\n",
    "logging.basicConfig(filename='example.log', level=logging.DEBUG)\n",
    "# log it inside the file instead of console\n",
    "# always avoid to write multiple exception handling \n",
    "# write the error which is close to the context\n",
    "# always prepare proper documentation of the code \n",
    "# always write the error message in the exception handling\n",
    "# always clean up the resources\n",
    "\n",
    "try:\n",
    "    with open('test1.txt','r') as f:\n",
    "        data = f.read()\n",
    "except FileNotFoundError as e:\n",
    "    logging.error(e)\n",
    "finally:\n",
    "    f.close()\n",
    "\n",
    "\n",
    "# dont overutilize the resources\n",
    "# always close the resources\n",
    "# always use the context manager to close the resources\n",
    "# always use the exception handling to avoid the crash of the program\n"
   ]
  },
  {
   "cell_type": "code",
   "execution_count": null,
   "metadata": {},
   "outputs": [],
   "source": []
  }
 ],
 "metadata": {
  "kernelspec": {
   "display_name": "base",
   "language": "python",
   "name": "python3"
  },
  "language_info": {
   "codemirror_mode": {
    "name": "ipython",
    "version": 3
   },
   "file_extension": ".py",
   "mimetype": "text/x-python",
   "name": "python",
   "nbconvert_exporter": "python",
   "pygments_lexer": "ipython3",
   "version": "3.10.14"
  }
 },
 "nbformat": 4,
 "nbformat_minor": 2
}
