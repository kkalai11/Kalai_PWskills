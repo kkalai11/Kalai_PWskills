{
 "cells": [
  {
   "cell_type": "markdown",
   "metadata": {},
   "source": [
    "#logging"
   ]
  },
  {
   "cell_type": "code",
   "execution_count": 5,
   "metadata": {},
   "outputs": [],
   "source": [
    "import logging\n",
    "\n",
    "logging.basicConfig(filename=\"log1\", level=logging.DEBUG,format = '%(asctime)s %(levelname)s %(message)s')"
   ]
  },
  {
   "cell_type": "code",
   "execution_count": 11,
   "metadata": {},
   "outputs": [],
   "source": [
    "l= (1,2,3,[4,5,6],\"kalai\",\"selvi\")\n",
    "\n",
    "l_int=[]\n",
    "l_str=[]\n",
    "\n",
    "for i in l:\n",
    "    logging.info(\"this is first loop{}\".format(l))\n",
    "    logging.info(\"value of i is {}\".format(i))\n",
    "    if type(i)==list:\n",
    "        for j in i:\n",
    "            logging.info(\"value of j is {}\".format(j))\n",
    "            if type(j)==int:\n",
    "                l_int.append(j)\n",
    "    elif  type(i)==int:\n",
    "        l_int.append(i)\n",
    "    else:\n",
    "        if type(i)==str:\n",
    "            l_str.append(i)"
   ]
  },
  {
   "cell_type": "code",
   "execution_count": 2,
   "metadata": {},
   "outputs": [
    {
     "name": "stdout",
     "output_type": "stream",
     "text": [
      "file is not exist [Errno 2] No such file or directory: 'text.txt'\n",
      "this is error code \n"
     ]
    }
   ],
   "source": [
    "# exeption handling \n",
    "\n",
    "try:\n",
    "    f= open(\"text.txt\",'r')\n",
    "except Exception as e:\n",
    "    print(\"file is not exist\",e)\n",
    "print(\"this is error code \")\n",
    "a=10\n"
   ]
  },
  {
   "cell_type": "code",
   "execution_count": 13,
   "metadata": {},
   "outputs": [
    {
     "name": "stdout",
     "output_type": "stream",
     "text": [
      "this will run after try block execute without exception\n",
      "it will always execute\n"
     ]
    }
   ],
   "source": [
    "try:\n",
    "    f= open(\"text.t\",'w')\n",
    "    f.write(\"this is new file\")\n",
    "except Exception as e:\n",
    "    print(\"there is an error\",e)\n",
    "else:\n",
    "    f.close()\n",
    "    print(\"this will run after try block execute without exception\")\n",
    "finally:\n",
    "    print(\"it will always execute\")\n"
   ]
  },
  {
   "cell_type": "markdown",
   "metadata": {},
   "source": [
    " custome exception handling \n",
    " "
   ]
  },
  {
   "cell_type": "code",
   "execution_count": 15,
   "metadata": {},
   "outputs": [
    {
     "name": "stdout",
     "output_type": "stream",
     "text": [
      "45\n"
     ]
    }
   ],
   "source": [
    "age= int(input(\"enter your age\"))\n",
    "print(age)"
   ]
  },
  {
   "cell_type": "code",
   "execution_count": 27,
   "metadata": {},
   "outputs": [],
   "source": [
    "class validateage(Exception):\n",
    "    def __init__(self,msg):\n",
    "        self.msg=msg"
   ]
  },
  {
   "cell_type": "code",
   "execution_count": 31,
   "metadata": {},
   "outputs": [],
   "source": [
    "def validate_age(age):\n",
    "    if age <= 0:\n",
    "        raise validateage(\"age should not be negative\")\n",
    "    elif age >= 200:\n",
    "        raise validateage(\"age is too high\")\n",
    "    else:\n",
    "        print(\"age is valid\")\n"
   ]
  },
  {
   "cell_type": "code",
   "execution_count": 33,
   "metadata": {},
   "outputs": [
    {
     "name": "stdout",
     "output_type": "stream",
     "text": [
      "age should not be negative\n"
     ]
    }
   ],
   "source": [
    "try:\n",
    "    age=int(input(\"enter your age\"))\n",
    "    validate_age(age)\n",
    "except validateage as e:\n",
    "     print(e)\n",
    "else :\n",
    "     print(\"your age is :\",age)\n",
    "\n",
    "    "
   ]
  }
 ],
 "metadata": {
  "kernelspec": {
   "display_name": "Python 3",
   "language": "python",
   "name": "python3"
  },
  "language_info": {
   "codemirror_mode": {
    "name": "ipython",
    "version": 3
   },
   "file_extension": ".py",
   "mimetype": "text/x-python",
   "name": "python",
   "nbconvert_exporter": "python",
   "pygments_lexer": "ipython3",
   "version": "3.13.1"
  }
 },
 "nbformat": 4,
 "nbformat_minor": 2
}
